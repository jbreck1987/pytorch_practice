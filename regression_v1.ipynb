{
 "cells": [
  {
   "cell_type": "markdown",
   "metadata": {},
   "source": [
    "### Training Data"
   ]
  },
  {
   "cell_type": "code",
   "execution_count": 14,
   "metadata": {},
   "outputs": [],
   "source": [
    "import matplotlib.pyplot as plt\n",
    "\n",
    "import numpy as np\n",
    "import numpy\n",
    "import torch\n",
    "import time\n",
    "from timeit import default_timer as timer\n",
    "import random\n",
    "from tqdm.autonotebook import tqdm\n",
    "\n",
    "from mkidreadoutanalysis.quasiparticletimestream import QuasiparticleTimeStream\n",
    "from data_engineering import make_dataset, plot_stream_data, train_step, test_step, make_predictions"
   ]
  },
  {
   "cell_type": "code",
   "execution_count": 15,
   "metadata": {},
   "outputs": [
    {
     "name": "stdout",
     "output_type": "stream",
     "text": [
      "Num samples with photons: 9694/10000.0\r"
     ]
    },
    {
     "name": "stderr",
     "output_type": "stream",
     "text": [
      "Warning: No photons arrived. :'(\n",
      "Warning: No photons arrived. :'(\n"
     ]
    },
    {
     "name": "stdout",
     "output_type": "stream",
     "text": [
      "Num samples with photons: 9705/10000.0\r"
     ]
    },
    {
     "name": "stderr",
     "output_type": "stream",
     "text": [
      "Warning: No photons arrived. :'(\n"
     ]
    },
    {
     "name": "stdout",
     "output_type": "stream",
     "text": [
      "Num samples with photons: 9709/10000.0\r"
     ]
    },
    {
     "name": "stderr",
     "output_type": "stream",
     "text": [
      "Warning: No photons arrived. :'(\n"
     ]
    },
    {
     "name": "stdout",
     "output_type": "stream",
     "text": [
      "Num samples with photons: 9717/10000.0\r"
     ]
    },
    {
     "name": "stderr",
     "output_type": "stream",
     "text": [
      "More than 1 photon arriving per time step. Lower the count rate?\n"
     ]
    },
    {
     "name": "stdout",
     "output_type": "stream",
     "text": [
      "Num samples with photons: 9771/10000.0\r"
     ]
    },
    {
     "name": "stderr",
     "output_type": "stream",
     "text": [
      "Warning: No photons arrived. :'(\n"
     ]
    },
    {
     "name": "stdout",
     "output_type": "stream",
     "text": [
      "Num samples with photons: 9867/10000.0\r"
     ]
    },
    {
     "name": "stderr",
     "output_type": "stream",
     "text": [
      "Warning: No photons arrived. :'(\n"
     ]
    },
    {
     "name": "stdout",
     "output_type": "stream",
     "text": [
      "Num samples with photons: 9925/10000.0\r"
     ]
    },
    {
     "name": "stderr",
     "output_type": "stream",
     "text": [
      "Warning: No photons arrived. :'(\n"
     ]
    },
    {
     "name": "stdout",
     "output_type": "stream",
     "text": [
      "Num samples with photons: 9935/10000.0\r"
     ]
    },
    {
     "name": "stderr",
     "output_type": "stream",
     "text": [
      "Warning: No photons arrived. :'(\n"
     ]
    },
    {
     "name": "stdout",
     "output_type": "stream",
     "text": [
      "Num samples with photons: 9944/10000.0\r"
     ]
    },
    {
     "name": "stderr",
     "output_type": "stream",
     "text": [
      "Warning: No photons arrived. :'(\n"
     ]
    },
    {
     "name": "stdout",
     "output_type": "stream",
     "text": [
      "Num samples with photons: 9955/10000.0\r"
     ]
    },
    {
     "name": "stderr",
     "output_type": "stream",
     "text": [
      "Warning: No photons arrived. :'(\n"
     ]
    },
    {
     "name": "stdout",
     "output_type": "stream",
     "text": [
      "Num samples with photons: 9957/10000.0\r"
     ]
    },
    {
     "name": "stderr",
     "output_type": "stream",
     "text": [
      "Warning: No photons arrived. :'(\n"
     ]
    },
    {
     "name": "stdout",
     "output_type": "stream",
     "text": [
      "Num samples with photons: 9977/10000.0\r"
     ]
    },
    {
     "name": "stderr",
     "output_type": "stream",
     "text": [
      "Warning: No photons arrived. :'(\n"
     ]
    },
    {
     "name": "stdout",
     "output_type": "stream",
     "text": [
      "Num samples with photons: 10000/10000.0\n",
      "Number of samples with pulses: 10000\n",
      "Number of samples without pulses: 0\n"
     ]
    }
   ],
   "source": [
    "# Generate the dataset\n",
    "\n",
    "NO_PULSE_FRACTION = 0.0\n",
    "NUM_SAMPLES = 10000 # This is approximate, the number of photons in the last iteration of the loop is Poisson distributied\n",
    "QP_TIME_LENGTH = 0.01 # secs\n",
    "SAMPLING_FREQ = 2e6 # Hz\n",
    "FALL_TIME = 30\n",
    "EDGE_PAD = FALL_TIME * 2\n",
    "WINDOW_SIZE = 1000\n",
    "RANDOM_SEED = 42\n",
    "\n",
    "\n",
    "no_pulses = []\n",
    "pulses = []\n",
    "\n",
    "# Generate qp timestream object\n",
    "qp_timestream = QuasiparticleTimeStream(SAMPLING_FREQ, QP_TIME_LENGTH)\n",
    "qp_timestream.gen_quasiparticle_pulse(tf = FALL_TIME)\n",
    "\n",
    "# Make the dataset\n",
    "make_dataset(qp_timestream,\n",
    "             NUM_SAMPLES,\n",
    "             NO_PULSE_FRACTION,\n",
    "             pulses,\n",
    "             no_pulses,\n",
    "             True,\n",
    "             edge_padding=EDGE_PAD,\n",
    "             window_size=WINDOW_SIZE)\n"
   ]
  },
  {
   "cell_type": "code",
   "execution_count": 16,
   "metadata": {},
   "outputs": [],
   "source": [
    "# Now lets start splitting out the training samples and the label. In this model, we want scalar value for the label, not a time series\n",
    "X = []\n",
    "y = []\n",
    "\n",
    "# Lets create one big list of the pulse and no pulse samples randomly shuffled together \n",
    "train_data = pulses + no_pulses\n",
    "random.shuffle(train_data)\n",
    "\n",
    "# Now lets separate the training samples (I/Q data) from the label data (photon arrival)\n",
    "for element in train_data:\n",
    "    X.append(element[0:2,:])\n",
    "    y.append(np.argwhere(element[2] == 1))"
   ]
  },
  {
   "cell_type": "code",
   "execution_count": 17,
   "metadata": {},
   "outputs": [
    {
     "name": "stdout",
     "output_type": "stream",
     "text": [
      "# of train samples: 8000, # of test samples: 2000\n"
     ]
    }
   ],
   "source": [
    "# With the training and label data now separated, lets start defining our training/testing metrics\n",
    "# and split the dataset into train and test\n",
    "TEST_RATIO = 0.2\n",
    "BATCH_SIZE = 32\n",
    "\n",
    "from sklearn.model_selection import train_test_split\n",
    "X_train, X_test, y_train, y_test = train_test_split(\n",
    "    X,\n",
    "    y,\n",
    "    test_size=TEST_RATIO, # Ratio of test data to use from full dataset; Training is the complement\n",
    "    random_state=RANDOM_SEED\n",
    ")\n",
    "\n",
    "# Now lets convert the lists to Tensors. Converting to np arrays first based on warning from torch\n",
    "X_train = torch.Tensor(numpy.array(X_train))\n",
    "X_test = torch.Tensor(numpy.array(X_test))\n",
    "y_train = torch.Tensor(numpy.array(y_train))\n",
    "y_test = torch.Tensor(numpy.array(y_test))\n",
    "\n",
    "print(f'# of train samples: {len(X_train)}, # of test samples: {len(X_test)}')"
   ]
  },
  {
   "cell_type": "code",
   "execution_count": 18,
   "metadata": {},
   "outputs": [
    {
     "name": "stdout",
     "output_type": "stream",
     "text": [
      "Type: <class 'torch.utils.data.dataloader.DataLoader'>\n",
      "Batch Img: torch.Size([32, 2, 1000]), Batch Labels: torch.Size([32, 1, 1])\n"
     ]
    }
   ],
   "source": [
    "# It's finally time to create our Dataloader objects\n",
    "from torch.utils.data import TensorDataset, DataLoader\n",
    "\n",
    "# Let's first convert from numpy arrays to Tensors and create datasets\n",
    "train_dataset = TensorDataset(X_train,\n",
    "                              y_train)\n",
    "test_dataset = TensorDataset(X_test,\n",
    "                             y_test)\n",
    "\n",
    "train_dloader = DataLoader(\n",
    "    dataset=train_dataset,\n",
    "    batch_size=BATCH_SIZE,\n",
    "    shuffle=True\n",
    ")\n",
    "test_dloader = DataLoader(\n",
    "    dataset=test_dataset,\n",
    "    batch_size=BATCH_SIZE,\n",
    "    shuffle=False\n",
    ")\n",
    "\n",
    "# Now lets inpect the objects.\n",
    "print(f'Type: {type(train_dloader)}')\n",
    "train_batch_img, train_batch_labels = next(iter(train_dloader))\n",
    "print(f'Batch Img: {train_batch_img.shape}, Batch Labels: {train_batch_labels.shape}')"
   ]
  },
  {
   "cell_type": "markdown",
   "metadata": {},
   "source": [
    "### Model Definition"
   ]
  },
  {
   "cell_type": "code",
   "execution_count": 24,
   "metadata": {},
   "outputs": [],
   "source": [
    "from models import ConvRegv1"
   ]
  },
  {
   "cell_type": "code",
   "execution_count": 25,
   "metadata": {},
   "outputs": [],
   "source": [
    "# Lets create a model instance, loss, and optimizer\n",
    "torch.manual_seed(RANDOM_SEED)\n",
    "\n",
    "conv_reg_v1 = ConvRegv1(in_channels=2)\n",
    "optimizer = torch.optim.SGD(params=conv_reg_v1.parameters(), lr=0.1)\n",
    "loss_fn = torch.nn.L1Loss(reduction='mean')# 'mean' reduction takes all the loss values from the batch and averages them to get the loss"
   ]
  },
  {
   "cell_type": "code",
   "execution_count": 26,
   "metadata": {},
   "outputs": [
    {
     "name": "stderr",
     "output_type": "stream",
     "text": [
      "  0%|          | 0/100 [00:00<?, ?it/s]"
     ]
    },
    {
     "name": "stdout",
     "output_type": "stream",
     "text": [
      "Epoch: 0\n",
      "-----------\n",
      "Batches processed: 250/250, Samples processed: 8000/8000\n",
      "-----------\n",
      "Mean Train Loss: 32160.5918\n"
     ]
    },
    {
     "name": "stderr",
     "output_type": "stream",
     "text": [
      "  1%|          | 1/100 [00:18<29:53, 18.12s/it]"
     ]
    },
    {
     "name": "stdout",
     "output_type": "stream",
     "text": [
      "Mean Test Loss: 228.4267\n",
      "-----------\n",
      "\n",
      "Epoch: 1\n",
      "-----------\n",
      "Batches processed: 250/250, Samples processed: 8000/8000\n",
      "-----------\n",
      "Mean Train Loss: 276.3838\n"
     ]
    },
    {
     "name": "stderr",
     "output_type": "stream",
     "text": [
      "  2%|▏         | 2/100 [00:36<29:48, 18.25s/it]"
     ]
    },
    {
     "name": "stdout",
     "output_type": "stream",
     "text": [
      "Mean Test Loss: 233.5598\n",
      "-----------\n",
      "\n",
      "Epoch: 2\n",
      "-----------\n",
      "Batches processed: 250/250, Samples processed: 8000/8000\n",
      "-----------\n",
      "Mean Train Loss: 275.7002\n"
     ]
    },
    {
     "name": "stderr",
     "output_type": "stream",
     "text": [
      "  3%|▎         | 3/100 [00:54<29:34, 18.29s/it]"
     ]
    },
    {
     "name": "stdout",
     "output_type": "stream",
     "text": [
      "Mean Test Loss: 234.2051\n",
      "-----------\n",
      "\n",
      "Epoch: 3\n",
      "-----------\n",
      "Batches processed: 250/250, Samples processed: 8000/8000\n",
      "-----------\n",
      "Mean Train Loss: 272.9843\n"
     ]
    },
    {
     "name": "stderr",
     "output_type": "stream",
     "text": [
      "  4%|▍         | 4/100 [01:14<29:58, 18.74s/it]"
     ]
    },
    {
     "name": "stdout",
     "output_type": "stream",
     "text": [
      "Mean Test Loss: 236.3493\n",
      "-----------\n",
      "\n",
      "Epoch: 4\n",
      "-----------\n",
      "Batches processed: 250/250, Samples processed: 8000/8000\n",
      "-----------\n",
      "Mean Train Loss: 273.5316\n"
     ]
    },
    {
     "name": "stderr",
     "output_type": "stream",
     "text": [
      "  5%|▌         | 5/100 [01:32<29:29, 18.63s/it]"
     ]
    },
    {
     "name": "stdout",
     "output_type": "stream",
     "text": [
      "Mean Test Loss: 233.1221\n",
      "-----------\n",
      "\n",
      "Epoch: 5\n",
      "-----------\n",
      "Batches processed: 250/250, Samples processed: 8000/8000\n",
      "-----------\n",
      "Mean Train Loss: 273.5427\n"
     ]
    },
    {
     "name": "stderr",
     "output_type": "stream",
     "text": [
      "  6%|▌         | 6/100 [01:51<29:03, 18.55s/it]"
     ]
    },
    {
     "name": "stdout",
     "output_type": "stream",
     "text": [
      "Mean Test Loss: 231.4907\n",
      "-----------\n",
      "\n",
      "Epoch: 6\n",
      "-----------\n",
      "Batches processed: 250/250, Samples processed: 8000/8000\n",
      "-----------\n",
      "Mean Train Loss: 269.6394\n"
     ]
    },
    {
     "name": "stderr",
     "output_type": "stream",
     "text": [
      "  7%|▋         | 7/100 [02:09<28:42, 18.53s/it]"
     ]
    },
    {
     "name": "stdout",
     "output_type": "stream",
     "text": [
      "Mean Test Loss: 231.5743\n",
      "-----------\n",
      "\n",
      "Epoch: 7\n",
      "-----------\n",
      "Batches processed: 250/250, Samples processed: 8000/8000\n",
      "-----------\n",
      "Mean Train Loss: 268.1371\n"
     ]
    },
    {
     "name": "stderr",
     "output_type": "stream",
     "text": [
      "  8%|▊         | 8/100 [02:27<28:16, 18.44s/it]"
     ]
    },
    {
     "name": "stdout",
     "output_type": "stream",
     "text": [
      "Mean Test Loss: 231.9315\n",
      "-----------\n",
      "\n",
      "Epoch: 8\n",
      "-----------\n",
      "Batches processed: 250/250, Samples processed: 8000/8000\n",
      "-----------\n",
      "Mean Train Loss: 268.0234\n"
     ]
    },
    {
     "name": "stderr",
     "output_type": "stream",
     "text": [
      "  9%|▉         | 9/100 [02:46<28:15, 18.63s/it]"
     ]
    },
    {
     "name": "stdout",
     "output_type": "stream",
     "text": [
      "Mean Test Loss: 230.0111\n",
      "-----------\n",
      "\n",
      "Epoch: 9\n",
      "-----------\n",
      "Batches processed: 250/250, Samples processed: 8000/8000\n",
      "-----------\n",
      "Mean Train Loss: 268.8529\n"
     ]
    },
    {
     "name": "stderr",
     "output_type": "stream",
     "text": [
      " 10%|█         | 10/100 [03:06<28:15, 18.84s/it]"
     ]
    },
    {
     "name": "stdout",
     "output_type": "stream",
     "text": [
      "Mean Test Loss: 229.0650\n",
      "-----------\n",
      "\n",
      "Epoch: 10\n",
      "-----------\n",
      "Batches processed: 250/250, Samples processed: 8000/8000\n",
      "-----------\n",
      "Mean Train Loss: 267.8390\n"
     ]
    },
    {
     "name": "stderr",
     "output_type": "stream",
     "text": [
      " 11%|█         | 11/100 [03:24<27:52, 18.79s/it]"
     ]
    },
    {
     "name": "stdout",
     "output_type": "stream",
     "text": [
      "Mean Test Loss: 230.7511\n",
      "-----------\n",
      "\n",
      "Epoch: 11\n",
      "-----------\n",
      "Batches processed: 250/250, Samples processed: 8000/8000\n",
      "-----------\n",
      "Mean Train Loss: 265.0034\n"
     ]
    },
    {
     "name": "stderr",
     "output_type": "stream",
     "text": [
      " 12%|█▏        | 12/100 [03:43<27:22, 18.67s/it]"
     ]
    },
    {
     "name": "stdout",
     "output_type": "stream",
     "text": [
      "Mean Test Loss: 233.2507\n",
      "-----------\n",
      "\n",
      "Epoch: 12\n",
      "-----------\n",
      "Batches processed: 250/250, Samples processed: 8000/8000\n",
      "-----------\n",
      "Mean Train Loss: 264.9583\n"
     ]
    },
    {
     "name": "stderr",
     "output_type": "stream",
     "text": [
      " 13%|█▎        | 13/100 [04:01<26:55, 18.57s/it]"
     ]
    },
    {
     "name": "stdout",
     "output_type": "stream",
     "text": [
      "Mean Test Loss: 233.5235\n",
      "-----------\n",
      "\n",
      "Epoch: 13\n",
      "-----------\n",
      "Batches processed: 250/250, Samples processed: 8000/8000\n",
      "-----------\n",
      "Mean Train Loss: 264.1072\n"
     ]
    },
    {
     "name": "stderr",
     "output_type": "stream",
     "text": [
      " 14%|█▍        | 14/100 [04:20<26:49, 18.71s/it]"
     ]
    },
    {
     "name": "stdout",
     "output_type": "stream",
     "text": [
      "Mean Test Loss: 228.4698\n",
      "-----------\n",
      "\n",
      "Epoch: 14\n",
      "-----------\n",
      "Batches processed: 250/250, Samples processed: 8000/8000\n",
      "-----------\n",
      "Mean Train Loss: 261.0303\n"
     ]
    },
    {
     "name": "stderr",
     "output_type": "stream",
     "text": [
      " 15%|█▌        | 15/100 [04:39<26:36, 18.78s/it]"
     ]
    },
    {
     "name": "stdout",
     "output_type": "stream",
     "text": [
      "Mean Test Loss: 229.7670\n",
      "-----------\n",
      "\n",
      "Epoch: 15\n",
      "-----------\n",
      "Batches processed: 250/250, Samples processed: 8000/8000\n",
      "-----------\n",
      "Mean Train Loss: 261.3882\n"
     ]
    },
    {
     "name": "stderr",
     "output_type": "stream",
     "text": [
      " 16%|█▌        | 16/100 [04:57<25:54, 18.50s/it]"
     ]
    },
    {
     "name": "stdout",
     "output_type": "stream",
     "text": [
      "Mean Test Loss: 230.1270\n",
      "-----------\n",
      "\n",
      "Epoch: 16\n",
      "-----------\n",
      "Batches processed: 250/250, Samples processed: 8000/8000\n",
      "-----------\n",
      "Mean Train Loss: 261.5539\n"
     ]
    },
    {
     "name": "stderr",
     "output_type": "stream",
     "text": [
      " 17%|█▋        | 17/100 [05:15<25:18, 18.29s/it]"
     ]
    },
    {
     "name": "stdout",
     "output_type": "stream",
     "text": [
      "Mean Test Loss: 236.3499\n",
      "-----------\n",
      "\n",
      "Epoch: 17\n",
      "-----------\n",
      "Batches processed: 250/250, Samples processed: 8000/8000\n",
      "-----------\n",
      "Mean Train Loss: 260.1979\n"
     ]
    },
    {
     "name": "stderr",
     "output_type": "stream",
     "text": [
      " 18%|█▊        | 18/100 [05:32<24:47, 18.14s/it]"
     ]
    },
    {
     "name": "stdout",
     "output_type": "stream",
     "text": [
      "Mean Test Loss: 229.7954\n",
      "-----------\n",
      "\n",
      "Epoch: 18\n",
      "-----------\n",
      "Batches processed: 250/250, Samples processed: 8000/8000\n",
      "-----------\n",
      "Mean Train Loss: 258.7606\n"
     ]
    },
    {
     "name": "stderr",
     "output_type": "stream",
     "text": [
      " 19%|█▉        | 19/100 [05:50<24:21, 18.05s/it]"
     ]
    },
    {
     "name": "stdout",
     "output_type": "stream",
     "text": [
      "Mean Test Loss: 230.0049\n",
      "-----------\n",
      "\n",
      "Epoch: 19\n",
      "-----------\n",
      "Batches processed: 250/250, Samples processed: 8000/8000\n",
      "-----------\n",
      "Mean Train Loss: 257.2221\n"
     ]
    },
    {
     "name": "stderr",
     "output_type": "stream",
     "text": [
      " 20%|██        | 20/100 [06:10<24:33, 18.42s/it]"
     ]
    },
    {
     "name": "stdout",
     "output_type": "stream",
     "text": [
      "Mean Test Loss: 230.6593\n",
      "-----------\n",
      "\n",
      "Epoch: 20\n",
      "-----------\n",
      "Batches processed: 250/250, Samples processed: 8000/8000\n",
      "-----------\n",
      "Mean Train Loss: 256.1817\n"
     ]
    },
    {
     "name": "stderr",
     "output_type": "stream",
     "text": [
      " 21%|██        | 21/100 [06:28<24:11, 18.38s/it]"
     ]
    },
    {
     "name": "stdout",
     "output_type": "stream",
     "text": [
      "Mean Test Loss: 230.8643\n",
      "-----------\n",
      "\n",
      "Epoch: 21\n",
      "-----------\n",
      "Batches processed: 250/250, Samples processed: 8000/8000\n",
      "-----------\n",
      "Mean Train Loss: 256.6606\n"
     ]
    },
    {
     "name": "stderr",
     "output_type": "stream",
     "text": [
      " 22%|██▏       | 22/100 [06:47<24:06, 18.55s/it]"
     ]
    },
    {
     "name": "stdout",
     "output_type": "stream",
     "text": [
      "Mean Test Loss: 227.8355\n",
      "-----------\n",
      "\n",
      "Epoch: 22\n",
      "-----------\n",
      "Batches processed: 250/250, Samples processed: 8000/8000\n",
      "-----------\n",
      "Mean Train Loss: 255.0040\n"
     ]
    },
    {
     "name": "stderr",
     "output_type": "stream",
     "text": [
      " 23%|██▎       | 23/100 [07:05<23:48, 18.55s/it]"
     ]
    },
    {
     "name": "stdout",
     "output_type": "stream",
     "text": [
      "Mean Test Loss: 232.3549\n",
      "-----------\n",
      "\n",
      "Epoch: 23\n",
      "-----------\n",
      "Batches processed: 250/250, Samples processed: 8000/8000\n",
      "-----------\n",
      "Mean Train Loss: 255.1175\n"
     ]
    },
    {
     "name": "stderr",
     "output_type": "stream",
     "text": [
      " 24%|██▍       | 24/100 [07:24<23:25, 18.50s/it]"
     ]
    },
    {
     "name": "stdout",
     "output_type": "stream",
     "text": [
      "Mean Test Loss: 232.2668\n",
      "-----------\n",
      "\n",
      "Epoch: 24\n",
      "-----------\n",
      "Batches processed: 250/250, Samples processed: 8000/8000\n",
      "-----------\n",
      "Mean Train Loss: 253.8688\n"
     ]
    },
    {
     "name": "stderr",
     "output_type": "stream",
     "text": [
      " 25%|██▌       | 25/100 [07:42<23:09, 18.52s/it]"
     ]
    },
    {
     "name": "stdout",
     "output_type": "stream",
     "text": [
      "Mean Test Loss: 230.7216\n",
      "-----------\n",
      "\n",
      "Epoch: 25\n",
      "-----------\n",
      "Batches processed: 250/250, Samples processed: 8000/8000\n",
      "-----------\n",
      "Mean Train Loss: 252.3066\n"
     ]
    },
    {
     "name": "stderr",
     "output_type": "stream",
     "text": [
      " 26%|██▌       | 26/100 [08:01<22:50, 18.52s/it]"
     ]
    },
    {
     "name": "stdout",
     "output_type": "stream",
     "text": [
      "Mean Test Loss: 229.8422\n",
      "-----------\n",
      "\n",
      "Epoch: 26\n",
      "-----------\n",
      "Batches processed: 250/250, Samples processed: 8000/8000\n",
      "-----------\n",
      "Mean Train Loss: 252.7253\n"
     ]
    },
    {
     "name": "stderr",
     "output_type": "stream",
     "text": [
      " 27%|██▋       | 27/100 [08:19<22:33, 18.54s/it]"
     ]
    },
    {
     "name": "stdout",
     "output_type": "stream",
     "text": [
      "Mean Test Loss: 232.7040\n",
      "-----------\n",
      "\n",
      "Epoch: 27\n",
      "-----------\n",
      "Batches processed: 250/250, Samples processed: 8000/8000\n",
      "-----------\n",
      "Mean Train Loss: 251.6499\n"
     ]
    },
    {
     "name": "stderr",
     "output_type": "stream",
     "text": [
      " 28%|██▊       | 28/100 [08:38<22:08, 18.45s/it]"
     ]
    },
    {
     "name": "stdout",
     "output_type": "stream",
     "text": [
      "Mean Test Loss: 229.0526\n",
      "-----------\n",
      "\n",
      "Epoch: 28\n",
      "-----------\n",
      "Batches processed: 250/250, Samples processed: 8000/8000\n",
      "-----------\n",
      "Mean Train Loss: 251.4765\n"
     ]
    },
    {
     "name": "stderr",
     "output_type": "stream",
     "text": [
      " 29%|██▉       | 29/100 [08:57<22:00, 18.61s/it]"
     ]
    },
    {
     "name": "stdout",
     "output_type": "stream",
     "text": [
      "Mean Test Loss: 230.7094\n",
      "-----------\n",
      "\n",
      "Epoch: 29\n",
      "-----------\n",
      "Batches processed: 250/250, Samples processed: 8000/8000\n",
      "-----------\n",
      "Mean Train Loss: 251.0137\n"
     ]
    },
    {
     "name": "stderr",
     "output_type": "stream",
     "text": [
      " 30%|███       | 30/100 [09:15<21:35, 18.50s/it]"
     ]
    },
    {
     "name": "stdout",
     "output_type": "stream",
     "text": [
      "Mean Test Loss: 226.7208\n",
      "-----------\n",
      "\n",
      "Epoch: 30\n",
      "-----------\n",
      "Batches processed: 250/250, Samples processed: 8000/8000\n",
      "-----------\n",
      "Mean Train Loss: 248.7832\n"
     ]
    },
    {
     "name": "stderr",
     "output_type": "stream",
     "text": [
      " 31%|███       | 31/100 [09:34<21:22, 18.58s/it]"
     ]
    },
    {
     "name": "stdout",
     "output_type": "stream",
     "text": [
      "Mean Test Loss: 229.6362\n",
      "-----------\n",
      "\n",
      "Epoch: 31\n",
      "-----------\n",
      "Batches processed: 250/250, Samples processed: 8000/8000\n",
      "-----------\n",
      "Mean Train Loss: 247.7469\n"
     ]
    },
    {
     "name": "stderr",
     "output_type": "stream",
     "text": [
      " 32%|███▏      | 32/100 [09:52<20:56, 18.47s/it]"
     ]
    },
    {
     "name": "stdout",
     "output_type": "stream",
     "text": [
      "Mean Test Loss: 229.6758\n",
      "-----------\n",
      "\n",
      "Epoch: 32\n",
      "-----------\n",
      "Batches processed: 250/250, Samples processed: 8000/8000\n",
      "-----------\n",
      "Mean Train Loss: 249.0228\n"
     ]
    },
    {
     "name": "stderr",
     "output_type": "stream",
     "text": [
      " 33%|███▎      | 33/100 [10:10<20:37, 18.48s/it]"
     ]
    },
    {
     "name": "stdout",
     "output_type": "stream",
     "text": [
      "Mean Test Loss: 226.2971\n",
      "-----------\n",
      "\n",
      "Epoch: 33\n",
      "-----------\n",
      "Batches processed: 250/250, Samples processed: 8000/8000\n",
      "-----------\n",
      "Mean Train Loss: 247.7772\n"
     ]
    },
    {
     "name": "stderr",
     "output_type": "stream",
     "text": [
      " 34%|███▍      | 34/100 [10:29<20:14, 18.40s/it]"
     ]
    },
    {
     "name": "stdout",
     "output_type": "stream",
     "text": [
      "Mean Test Loss: 227.1250\n",
      "-----------\n",
      "\n",
      "Epoch: 34\n",
      "-----------\n",
      "Batches processed: 250/250, Samples processed: 8000/8000\n",
      "-----------\n",
      "Mean Train Loss: 247.8660\n"
     ]
    },
    {
     "name": "stderr",
     "output_type": "stream",
     "text": [
      " 35%|███▌      | 35/100 [10:47<19:56, 18.41s/it]"
     ]
    },
    {
     "name": "stdout",
     "output_type": "stream",
     "text": [
      "Mean Test Loss: 229.4203\n",
      "-----------\n",
      "\n",
      "Epoch: 35\n",
      "-----------\n",
      "Batches processed: 250/250, Samples processed: 8000/8000\n",
      "-----------\n",
      "Mean Train Loss: 245.8465\n"
     ]
    },
    {
     "name": "stderr",
     "output_type": "stream",
     "text": [
      " 36%|███▌      | 36/100 [11:05<19:36, 18.38s/it]"
     ]
    },
    {
     "name": "stdout",
     "output_type": "stream",
     "text": [
      "Mean Test Loss: 227.6448\n",
      "-----------\n",
      "\n",
      "Epoch: 36\n",
      "-----------\n",
      "Batches processed: 250/250, Samples processed: 8000/8000\n",
      "-----------\n",
      "Mean Train Loss: 245.5754\n"
     ]
    },
    {
     "name": "stderr",
     "output_type": "stream",
     "text": [
      " 37%|███▋      | 37/100 [11:23<19:10, 18.26s/it]"
     ]
    },
    {
     "name": "stdout",
     "output_type": "stream",
     "text": [
      "Mean Test Loss: 231.0082\n",
      "-----------\n",
      "\n",
      "Epoch: 37\n",
      "-----------\n",
      "Batches processed: 250/250, Samples processed: 8000/8000\n",
      "-----------\n",
      "Mean Train Loss: 245.3542\n"
     ]
    },
    {
     "name": "stderr",
     "output_type": "stream",
     "text": [
      " 38%|███▊      | 38/100 [11:41<18:50, 18.23s/it]"
     ]
    },
    {
     "name": "stdout",
     "output_type": "stream",
     "text": [
      "Mean Test Loss: 227.1672\n",
      "-----------\n",
      "\n",
      "Epoch: 38\n",
      "-----------\n",
      "Batches processed: 250/250, Samples processed: 8000/8000\n",
      "-----------\n",
      "Mean Train Loss: 245.3471\n"
     ]
    },
    {
     "name": "stderr",
     "output_type": "stream",
     "text": [
      " 39%|███▉      | 39/100 [12:00<18:30, 18.20s/it]"
     ]
    },
    {
     "name": "stdout",
     "output_type": "stream",
     "text": [
      "Mean Test Loss: 228.7214\n",
      "-----------\n",
      "\n",
      "Epoch: 39\n",
      "-----------\n",
      "Batches processed: 250/250, Samples processed: 8000/8000\n",
      "-----------\n",
      "Mean Train Loss: 243.0551\n"
     ]
    },
    {
     "name": "stderr",
     "output_type": "stream",
     "text": [
      " 40%|████      | 40/100 [12:19<18:27, 18.46s/it]"
     ]
    },
    {
     "name": "stdout",
     "output_type": "stream",
     "text": [
      "Mean Test Loss: 226.5853\n",
      "-----------\n",
      "\n",
      "Epoch: 40\n",
      "-----------\n",
      "Batches processed: 250/250, Samples processed: 8000/8000\n",
      "-----------\n",
      "Mean Train Loss: 242.8964\n"
     ]
    },
    {
     "name": "stderr",
     "output_type": "stream",
     "text": [
      " 41%|████      | 41/100 [12:37<18:08, 18.45s/it]"
     ]
    },
    {
     "name": "stdout",
     "output_type": "stream",
     "text": [
      "Mean Test Loss: 228.0114\n",
      "-----------\n",
      "\n",
      "Epoch: 41\n",
      "-----------\n",
      "Batches processed: 250/250, Samples processed: 8000/8000\n",
      "-----------\n",
      "Mean Train Loss: 242.9977\n"
     ]
    },
    {
     "name": "stderr",
     "output_type": "stream",
     "text": [
      " 42%|████▏     | 42/100 [12:56<17:59, 18.62s/it]"
     ]
    },
    {
     "name": "stdout",
     "output_type": "stream",
     "text": [
      "Mean Test Loss: 228.6032\n",
      "-----------\n",
      "\n",
      "Epoch: 42\n",
      "-----------\n",
      "Batches processed: 250/250, Samples processed: 8000/8000\n",
      "-----------\n",
      "Mean Train Loss: 241.9509\n"
     ]
    },
    {
     "name": "stderr",
     "output_type": "stream",
     "text": [
      " 43%|████▎     | 43/100 [13:15<17:54, 18.85s/it]"
     ]
    },
    {
     "name": "stdout",
     "output_type": "stream",
     "text": [
      "Mean Test Loss: 227.7954\n",
      "-----------\n",
      "\n",
      "Epoch: 43\n",
      "-----------\n",
      "Batches processed: 250/250, Samples processed: 8000/8000\n",
      "-----------\n",
      "Mean Train Loss: 242.2713\n"
     ]
    },
    {
     "name": "stderr",
     "output_type": "stream",
     "text": [
      " 44%|████▍     | 44/100 [13:34<17:24, 18.65s/it]"
     ]
    },
    {
     "name": "stdout",
     "output_type": "stream",
     "text": [
      "Mean Test Loss: 230.7754\n",
      "-----------\n",
      "\n",
      "Epoch: 44\n",
      "-----------\n",
      "Batches processed: 250/250, Samples processed: 8000/8000\n",
      "-----------\n",
      "Mean Train Loss: 240.9628\n"
     ]
    },
    {
     "name": "stderr",
     "output_type": "stream",
     "text": [
      " 45%|████▌     | 45/100 [13:51<16:48, 18.33s/it]"
     ]
    },
    {
     "name": "stdout",
     "output_type": "stream",
     "text": [
      "Mean Test Loss: 231.6527\n",
      "-----------\n",
      "\n",
      "Epoch: 45\n",
      "-----------\n",
      "Batches processed: 250/250, Samples processed: 8000/8000\n",
      "-----------\n",
      "Mean Train Loss: 241.5669\n"
     ]
    },
    {
     "name": "stderr",
     "output_type": "stream",
     "text": [
      " 46%|████▌     | 46/100 [14:09<16:22, 18.20s/it]"
     ]
    },
    {
     "name": "stdout",
     "output_type": "stream",
     "text": [
      "Mean Test Loss: 227.3625\n",
      "-----------\n",
      "\n",
      "Epoch: 46\n",
      "-----------\n",
      "Batches processed: 250/250, Samples processed: 8000/8000\n",
      "-----------\n",
      "Mean Train Loss: 240.9279\n"
     ]
    },
    {
     "name": "stderr",
     "output_type": "stream",
     "text": [
      " 47%|████▋     | 47/100 [14:27<15:54, 18.01s/it]"
     ]
    },
    {
     "name": "stdout",
     "output_type": "stream",
     "text": [
      "Mean Test Loss: 226.7193\n",
      "-----------\n",
      "\n",
      "Epoch: 47\n",
      "-----------\n",
      "Batches processed: 250/250, Samples processed: 8000/8000\n",
      "-----------\n",
      "Mean Train Loss: 241.1095\n"
     ]
    },
    {
     "name": "stderr",
     "output_type": "stream",
     "text": [
      " 48%|████▊     | 48/100 [14:44<15:29, 17.88s/it]"
     ]
    },
    {
     "name": "stdout",
     "output_type": "stream",
     "text": [
      "Mean Test Loss: 227.4796\n",
      "-----------\n",
      "\n",
      "Epoch: 48\n",
      "-----------\n",
      "Batches processed: 250/250, Samples processed: 8000/8000\n",
      "-----------\n",
      "Mean Train Loss: 240.3127\n"
     ]
    },
    {
     "name": "stderr",
     "output_type": "stream",
     "text": [
      " 49%|████▉     | 49/100 [15:02<15:09, 17.83s/it]"
     ]
    },
    {
     "name": "stdout",
     "output_type": "stream",
     "text": [
      "Mean Test Loss: 227.6681\n",
      "-----------\n",
      "\n",
      "Epoch: 49\n",
      "-----------\n",
      "Batches processed: 250/250, Samples processed: 8000/8000\n",
      "-----------\n",
      "Mean Train Loss: 238.8161\n"
     ]
    },
    {
     "name": "stderr",
     "output_type": "stream",
     "text": [
      " 50%|█████     | 50/100 [15:20<14:47, 17.75s/it]"
     ]
    },
    {
     "name": "stdout",
     "output_type": "stream",
     "text": [
      "Mean Test Loss: 226.3869\n",
      "-----------\n",
      "\n",
      "Epoch: 50\n",
      "-----------\n",
      "Batches processed: 250/250, Samples processed: 8000/8000\n",
      "-----------\n",
      "Mean Train Loss: 238.0443\n"
     ]
    },
    {
     "name": "stderr",
     "output_type": "stream",
     "text": [
      " 51%|█████     | 51/100 [15:37<14:26, 17.69s/it]"
     ]
    },
    {
     "name": "stdout",
     "output_type": "stream",
     "text": [
      "Mean Test Loss: 226.7719\n",
      "-----------\n",
      "\n",
      "Epoch: 51\n",
      "-----------\n",
      "Batches processed: 250/250, Samples processed: 8000/8000\n",
      "-----------\n",
      "Mean Train Loss: 238.3340\n"
     ]
    },
    {
     "name": "stderr",
     "output_type": "stream",
     "text": [
      " 52%|█████▏    | 52/100 [15:55<14:06, 17.64s/it]"
     ]
    },
    {
     "name": "stdout",
     "output_type": "stream",
     "text": [
      "Mean Test Loss: 227.2554\n",
      "-----------\n",
      "\n",
      "Epoch: 52\n",
      "-----------\n",
      "Batches processed: 250/250, Samples processed: 8000/8000\n",
      "-----------\n",
      "Mean Train Loss: 237.7433\n"
     ]
    },
    {
     "name": "stderr",
     "output_type": "stream",
     "text": [
      " 53%|█████▎    | 53/100 [16:12<13:48, 17.63s/it]"
     ]
    },
    {
     "name": "stdout",
     "output_type": "stream",
     "text": [
      "Mean Test Loss: 226.4123\n",
      "-----------\n",
      "\n",
      "Epoch: 53\n",
      "-----------\n",
      "Batches processed: 250/250, Samples processed: 8000/8000\n",
      "-----------\n",
      "Mean Train Loss: 238.6126\n"
     ]
    },
    {
     "name": "stderr",
     "output_type": "stream",
     "text": [
      " 54%|█████▍    | 54/100 [16:30<13:28, 17.57s/it]"
     ]
    },
    {
     "name": "stdout",
     "output_type": "stream",
     "text": [
      "Mean Test Loss: 226.6792\n",
      "-----------\n",
      "\n",
      "Epoch: 54\n",
      "-----------\n",
      "Batches processed: 250/250, Samples processed: 8000/8000\n",
      "-----------\n",
      "Mean Train Loss: 236.6050\n"
     ]
    },
    {
     "name": "stderr",
     "output_type": "stream",
     "text": [
      " 55%|█████▌    | 55/100 [16:47<13:11, 17.58s/it]"
     ]
    },
    {
     "name": "stdout",
     "output_type": "stream",
     "text": [
      "Mean Test Loss: 227.8583\n",
      "-----------\n",
      "\n",
      "Epoch: 55\n",
      "-----------\n",
      "Batches processed: 250/250, Samples processed: 8000/8000\n",
      "-----------\n",
      "Mean Train Loss: 236.6136\n"
     ]
    },
    {
     "name": "stderr",
     "output_type": "stream",
     "text": [
      " 56%|█████▌    | 56/100 [17:05<12:51, 17.54s/it]"
     ]
    },
    {
     "name": "stdout",
     "output_type": "stream",
     "text": [
      "Mean Test Loss: 227.3321\n",
      "-----------\n",
      "\n",
      "Epoch: 56\n",
      "-----------\n",
      "Batches processed: 250/250, Samples processed: 8000/8000\n",
      "-----------\n",
      "Mean Train Loss: 236.1637\n"
     ]
    },
    {
     "name": "stderr",
     "output_type": "stream",
     "text": [
      " 57%|█████▋    | 57/100 [17:22<12:35, 17.56s/it]"
     ]
    },
    {
     "name": "stdout",
     "output_type": "stream",
     "text": [
      "Mean Test Loss: 227.4713\n",
      "-----------\n",
      "\n",
      "Epoch: 57\n",
      "-----------\n",
      "Batches processed: 250/250, Samples processed: 8000/8000\n",
      "-----------\n",
      "Mean Train Loss: 235.9278\n"
     ]
    },
    {
     "name": "stderr",
     "output_type": "stream",
     "text": [
      " 58%|█████▊    | 58/100 [17:40<12:18, 17.59s/it]"
     ]
    },
    {
     "name": "stdout",
     "output_type": "stream",
     "text": [
      "Mean Test Loss: 226.7122\n",
      "-----------\n",
      "\n",
      "Epoch: 58\n",
      "-----------\n",
      "Batches processed: 250/250, Samples processed: 8000/8000\n",
      "-----------\n",
      "Mean Train Loss: 235.3849\n"
     ]
    },
    {
     "name": "stderr",
     "output_type": "stream",
     "text": [
      " 59%|█████▉    | 59/100 [17:58<12:08, 17.77s/it]"
     ]
    },
    {
     "name": "stdout",
     "output_type": "stream",
     "text": [
      "Mean Test Loss: 226.2894\n",
      "-----------\n",
      "\n",
      "Epoch: 59\n",
      "-----------\n",
      "Batches processed: 250/250, Samples processed: 8000/8000\n",
      "-----------\n",
      "Mean Train Loss: 235.3248\n"
     ]
    },
    {
     "name": "stderr",
     "output_type": "stream",
     "text": [
      " 60%|██████    | 60/100 [18:18<12:12, 18.31s/it]"
     ]
    },
    {
     "name": "stdout",
     "output_type": "stream",
     "text": [
      "Mean Test Loss: 226.4199\n",
      "-----------\n",
      "\n",
      "Epoch: 60\n",
      "-----------\n",
      "Batches processed: 250/250, Samples processed: 8000/8000\n",
      "-----------\n",
      "Mean Train Loss: 234.7288\n"
     ]
    },
    {
     "name": "stderr",
     "output_type": "stream",
     "text": [
      " 61%|██████    | 61/100 [18:36<11:58, 18.43s/it]"
     ]
    },
    {
     "name": "stdout",
     "output_type": "stream",
     "text": [
      "Mean Test Loss: 227.1607\n",
      "-----------\n",
      "\n",
      "Epoch: 61\n",
      "-----------\n",
      "Batches processed: 250/250, Samples processed: 8000/8000\n",
      "-----------\n",
      "Mean Train Loss: 235.3997\n"
     ]
    },
    {
     "name": "stderr",
     "output_type": "stream",
     "text": [
      " 62%|██████▏   | 62/100 [18:55<11:44, 18.55s/it]"
     ]
    },
    {
     "name": "stdout",
     "output_type": "stream",
     "text": [
      "Mean Test Loss: 226.9242\n",
      "-----------\n",
      "\n",
      "Epoch: 62\n",
      "-----------\n",
      "Batches processed: 250/250, Samples processed: 8000/8000\n",
      "-----------\n",
      "Mean Train Loss: 234.8353\n"
     ]
    },
    {
     "name": "stderr",
     "output_type": "stream",
     "text": [
      " 63%|██████▎   | 63/100 [19:15<11:34, 18.78s/it]"
     ]
    },
    {
     "name": "stdout",
     "output_type": "stream",
     "text": [
      "Mean Test Loss: 228.1111\n",
      "-----------\n",
      "\n",
      "Epoch: 63\n",
      "-----------\n",
      "Batches processed: 250/250, Samples processed: 8000/8000\n",
      "-----------\n",
      "Mean Train Loss: 234.0190\n"
     ]
    },
    {
     "name": "stderr",
     "output_type": "stream",
     "text": [
      " 64%|██████▍   | 64/100 [19:32<11:03, 18.43s/it]"
     ]
    },
    {
     "name": "stdout",
     "output_type": "stream",
     "text": [
      "Mean Test Loss: 229.1370\n",
      "-----------\n",
      "\n",
      "Epoch: 64\n",
      "-----------\n",
      "Batches processed: 250/250, Samples processed: 8000/8000\n",
      "-----------\n",
      "Mean Train Loss: 234.1332\n"
     ]
    },
    {
     "name": "stderr",
     "output_type": "stream",
     "text": [
      " 65%|██████▌   | 65/100 [19:50<10:41, 18.34s/it]"
     ]
    },
    {
     "name": "stdout",
     "output_type": "stream",
     "text": [
      "Mean Test Loss: 227.5377\n",
      "-----------\n",
      "\n",
      "Epoch: 65\n",
      "-----------\n",
      "Batches processed: 250/250, Samples processed: 8000/8000\n",
      "-----------\n",
      "Mean Train Loss: 233.1113\n"
     ]
    },
    {
     "name": "stderr",
     "output_type": "stream",
     "text": [
      " 66%|██████▌   | 66/100 [20:09<10:28, 18.48s/it]"
     ]
    },
    {
     "name": "stdout",
     "output_type": "stream",
     "text": [
      "Mean Test Loss: 227.6716\n",
      "-----------\n",
      "\n",
      "Epoch: 66\n",
      "-----------\n",
      "Batches processed: 250/250, Samples processed: 8000/8000\n",
      "-----------\n",
      "Mean Train Loss: 233.1210\n"
     ]
    },
    {
     "name": "stderr",
     "output_type": "stream",
     "text": [
      " 67%|██████▋   | 67/100 [20:28<10:11, 18.53s/it]"
     ]
    },
    {
     "name": "stdout",
     "output_type": "stream",
     "text": [
      "Mean Test Loss: 226.4807\n",
      "-----------\n",
      "\n",
      "Epoch: 67\n",
      "-----------\n",
      "Batches processed: 250/250, Samples processed: 8000/8000\n",
      "-----------\n",
      "Mean Train Loss: 233.1035\n"
     ]
    },
    {
     "name": "stderr",
     "output_type": "stream",
     "text": [
      " 68%|██████▊   | 68/100 [20:46<09:49, 18.44s/it]"
     ]
    },
    {
     "name": "stdout",
     "output_type": "stream",
     "text": [
      "Mean Test Loss: 226.3231\n",
      "-----------\n",
      "\n",
      "Epoch: 68\n",
      "-----------\n",
      "Batches processed: 250/250, Samples processed: 8000/8000\n",
      "-----------\n",
      "Mean Train Loss: 232.8904\n"
     ]
    },
    {
     "name": "stderr",
     "output_type": "stream",
     "text": [
      " 69%|██████▉   | 69/100 [21:05<09:38, 18.66s/it]"
     ]
    },
    {
     "name": "stdout",
     "output_type": "stream",
     "text": [
      "Mean Test Loss: 228.0604\n",
      "-----------\n",
      "\n",
      "Epoch: 69\n",
      "-----------\n",
      "Batches processed: 250/250, Samples processed: 8000/8000\n",
      "-----------\n",
      "Mean Train Loss: 232.0957\n"
     ]
    },
    {
     "name": "stderr",
     "output_type": "stream",
     "text": [
      " 70%|███████   | 70/100 [21:24<09:20, 18.69s/it]"
     ]
    },
    {
     "name": "stdout",
     "output_type": "stream",
     "text": [
      "Mean Test Loss: 227.9002\n",
      "-----------\n",
      "\n",
      "Epoch: 70\n",
      "-----------\n",
      "Batches processed: 250/250, Samples processed: 8000/8000\n",
      "-----------\n",
      "Mean Train Loss: 231.7400\n"
     ]
    },
    {
     "name": "stderr",
     "output_type": "stream",
     "text": [
      " 71%|███████   | 71/100 [21:42<09:00, 18.63s/it]"
     ]
    },
    {
     "name": "stdout",
     "output_type": "stream",
     "text": [
      "Mean Test Loss: 226.2793\n",
      "-----------\n",
      "\n",
      "Epoch: 71\n",
      "-----------\n",
      "Batches processed: 250/250, Samples processed: 8000/8000\n",
      "-----------\n",
      "Mean Train Loss: 231.1106\n"
     ]
    },
    {
     "name": "stderr",
     "output_type": "stream",
     "text": [
      " 72%|███████▏  | 72/100 [22:01<08:41, 18.63s/it]"
     ]
    },
    {
     "name": "stdout",
     "output_type": "stream",
     "text": [
      "Mean Test Loss: 227.3968\n",
      "-----------\n",
      "\n",
      "Epoch: 72\n",
      "-----------\n",
      "Batches processed: 250/250, Samples processed: 8000/8000\n",
      "-----------\n",
      "Mean Train Loss: 231.5033\n"
     ]
    },
    {
     "name": "stderr",
     "output_type": "stream",
     "text": [
      " 73%|███████▎  | 73/100 [22:20<08:22, 18.62s/it]"
     ]
    },
    {
     "name": "stdout",
     "output_type": "stream",
     "text": [
      "Mean Test Loss: 227.4996\n",
      "-----------\n",
      "\n",
      "Epoch: 73\n",
      "-----------\n",
      "Batches processed: 250/250, Samples processed: 8000/8000\n",
      "-----------\n",
      "Mean Train Loss: 231.3307\n"
     ]
    },
    {
     "name": "stderr",
     "output_type": "stream",
     "text": [
      " 74%|███████▍  | 74/100 [22:38<08:02, 18.54s/it]"
     ]
    },
    {
     "name": "stdout",
     "output_type": "stream",
     "text": [
      "Mean Test Loss: 227.2985\n",
      "-----------\n",
      "\n",
      "Epoch: 74\n",
      "-----------\n",
      "Batches processed: 250/250, Samples processed: 8000/8000\n",
      "-----------\n",
      "Mean Train Loss: 230.7350\n"
     ]
    },
    {
     "name": "stderr",
     "output_type": "stream",
     "text": [
      " 75%|███████▌  | 75/100 [22:57<07:45, 18.62s/it]"
     ]
    },
    {
     "name": "stdout",
     "output_type": "stream",
     "text": [
      "Mean Test Loss: 226.4214\n",
      "-----------\n",
      "\n",
      "Epoch: 75\n",
      "-----------\n",
      "Batches processed: 250/250, Samples processed: 8000/8000\n",
      "-----------\n",
      "Mean Train Loss: 230.4026\n"
     ]
    },
    {
     "name": "stderr",
     "output_type": "stream",
     "text": [
      " 76%|███████▌  | 76/100 [23:15<07:23, 18.47s/it]"
     ]
    },
    {
     "name": "stdout",
     "output_type": "stream",
     "text": [
      "Mean Test Loss: 226.8556\n",
      "-----------\n",
      "\n",
      "Epoch: 76\n",
      "-----------\n",
      "Batches processed: 250/250, Samples processed: 8000/8000\n",
      "-----------\n",
      "Mean Train Loss: 230.1325\n"
     ]
    },
    {
     "name": "stderr",
     "output_type": "stream",
     "text": [
      " 77%|███████▋  | 77/100 [23:34<07:11, 18.75s/it]"
     ]
    },
    {
     "name": "stdout",
     "output_type": "stream",
     "text": [
      "Mean Test Loss: 227.6419\n",
      "-----------\n",
      "\n",
      "Epoch: 77\n",
      "-----------\n",
      "Batches processed: 250/250, Samples processed: 8000/8000\n",
      "-----------\n",
      "Mean Train Loss: 230.2077\n"
     ]
    },
    {
     "name": "stderr",
     "output_type": "stream",
     "text": [
      " 78%|███████▊  | 78/100 [23:53<06:53, 18.80s/it]"
     ]
    },
    {
     "name": "stdout",
     "output_type": "stream",
     "text": [
      "Mean Test Loss: 227.5281\n",
      "-----------\n",
      "\n",
      "Epoch: 78\n",
      "-----------\n",
      "Batches processed: 250/250, Samples processed: 8000/8000\n",
      "-----------\n",
      "Mean Train Loss: 229.3218\n"
     ]
    },
    {
     "name": "stderr",
     "output_type": "stream",
     "text": [
      " 79%|███████▉  | 79/100 [24:12<06:32, 18.69s/it]"
     ]
    },
    {
     "name": "stdout",
     "output_type": "stream",
     "text": [
      "Mean Test Loss: 226.3463\n",
      "-----------\n",
      "\n",
      "Epoch: 79\n",
      "-----------\n",
      "Batches processed: 250/250, Samples processed: 8000/8000\n",
      "-----------\n",
      "Mean Train Loss: 229.7232\n"
     ]
    },
    {
     "name": "stderr",
     "output_type": "stream",
     "text": [
      " 80%|████████  | 80/100 [24:30<06:12, 18.62s/it]"
     ]
    },
    {
     "name": "stdout",
     "output_type": "stream",
     "text": [
      "Mean Test Loss: 226.8603\n",
      "-----------\n",
      "\n",
      "Epoch: 80\n",
      "-----------\n",
      "Batches processed: 250/250, Samples processed: 8000/8000\n",
      "-----------\n",
      "Mean Train Loss: 229.1174\n"
     ]
    },
    {
     "name": "stderr",
     "output_type": "stream",
     "text": [
      " 81%|████████  | 81/100 [24:49<05:51, 18.53s/it]"
     ]
    },
    {
     "name": "stdout",
     "output_type": "stream",
     "text": [
      "Mean Test Loss: 226.4049\n",
      "-----------\n",
      "\n",
      "Epoch: 81\n",
      "-----------\n",
      "Batches processed: 250/250, Samples processed: 8000/8000\n",
      "-----------\n",
      "Mean Train Loss: 229.4968\n"
     ]
    },
    {
     "name": "stderr",
     "output_type": "stream",
     "text": [
      " 82%|████████▏ | 82/100 [25:07<05:30, 18.38s/it]"
     ]
    },
    {
     "name": "stdout",
     "output_type": "stream",
     "text": [
      "Mean Test Loss: 226.6685\n",
      "-----------\n",
      "\n",
      "Epoch: 82\n",
      "-----------\n",
      "Batches processed: 250/250, Samples processed: 8000/8000\n",
      "-----------\n",
      "Mean Train Loss: 229.3944\n"
     ]
    },
    {
     "name": "stderr",
     "output_type": "stream",
     "text": [
      " 83%|████████▎ | 83/100 [25:24<05:09, 18.23s/it]"
     ]
    },
    {
     "name": "stdout",
     "output_type": "stream",
     "text": [
      "Mean Test Loss: 227.2196\n",
      "-----------\n",
      "\n",
      "Epoch: 83\n",
      "-----------\n",
      "Batches processed: 250/250, Samples processed: 8000/8000\n",
      "-----------\n",
      "Mean Train Loss: 228.9616\n"
     ]
    },
    {
     "name": "stderr",
     "output_type": "stream",
     "text": [
      " 84%|████████▍ | 84/100 [25:43<04:55, 18.44s/it]"
     ]
    },
    {
     "name": "stdout",
     "output_type": "stream",
     "text": [
      "Mean Test Loss: 227.0434\n",
      "-----------\n",
      "\n",
      "Epoch: 84\n",
      "-----------\n",
      "Batches processed: 250/250, Samples processed: 8000/8000\n",
      "-----------\n",
      "Mean Train Loss: 228.7405\n"
     ]
    },
    {
     "name": "stderr",
     "output_type": "stream",
     "text": [
      " 85%|████████▌ | 85/100 [26:01<04:34, 18.33s/it]"
     ]
    },
    {
     "name": "stdout",
     "output_type": "stream",
     "text": [
      "Mean Test Loss: 226.3413\n",
      "-----------\n",
      "\n",
      "Epoch: 85\n",
      "-----------\n",
      "Batches processed: 250/250, Samples processed: 8000/8000\n",
      "-----------\n",
      "Mean Train Loss: 228.2938\n"
     ]
    },
    {
     "name": "stderr",
     "output_type": "stream",
     "text": [
      " 86%|████████▌ | 86/100 [26:20<04:16, 18.30s/it]"
     ]
    },
    {
     "name": "stdout",
     "output_type": "stream",
     "text": [
      "Mean Test Loss: 227.0996\n",
      "-----------\n",
      "\n",
      "Epoch: 86\n",
      "-----------\n",
      "Batches processed: 250/250, Samples processed: 8000/8000\n",
      "-----------\n",
      "Mean Train Loss: 227.8549\n"
     ]
    },
    {
     "name": "stderr",
     "output_type": "stream",
     "text": [
      " 87%|████████▋ | 87/100 [26:38<03:56, 18.21s/it]"
     ]
    },
    {
     "name": "stdout",
     "output_type": "stream",
     "text": [
      "Mean Test Loss: 226.3683\n",
      "-----------\n",
      "\n",
      "Epoch: 87\n",
      "-----------\n",
      "Batches processed: 250/250, Samples processed: 8000/8000\n",
      "-----------\n",
      "Mean Train Loss: 228.2273\n"
     ]
    },
    {
     "name": "stderr",
     "output_type": "stream",
     "text": [
      " 88%|████████▊ | 88/100 [26:56<03:38, 18.19s/it]"
     ]
    },
    {
     "name": "stdout",
     "output_type": "stream",
     "text": [
      "Mean Test Loss: 226.3948\n",
      "-----------\n",
      "\n",
      "Epoch: 88\n",
      "-----------\n",
      "Batches processed: 250/250, Samples processed: 8000/8000\n",
      "-----------\n",
      "Mean Train Loss: 228.1570\n"
     ]
    },
    {
     "name": "stderr",
     "output_type": "stream",
     "text": [
      " 89%|████████▉ | 89/100 [27:14<03:21, 18.30s/it]"
     ]
    },
    {
     "name": "stdout",
     "output_type": "stream",
     "text": [
      "Mean Test Loss: 226.4134\n",
      "-----------\n",
      "\n",
      "Epoch: 89\n",
      "-----------\n",
      "Batches processed: 250/250, Samples processed: 8000/8000\n",
      "-----------\n",
      "Mean Train Loss: 227.6768\n"
     ]
    },
    {
     "name": "stderr",
     "output_type": "stream",
     "text": [
      " 90%|█████████ | 90/100 [27:33<03:04, 18.43s/it]"
     ]
    },
    {
     "name": "stdout",
     "output_type": "stream",
     "text": [
      "Mean Test Loss: 226.7440\n",
      "-----------\n",
      "\n",
      "Epoch: 90\n",
      "-----------\n",
      "Batches processed: 250/250, Samples processed: 8000/8000\n",
      "-----------\n",
      "Mean Train Loss: 227.6730\n"
     ]
    },
    {
     "name": "stderr",
     "output_type": "stream",
     "text": [
      " 91%|█████████ | 91/100 [27:51<02:45, 18.37s/it]"
     ]
    },
    {
     "name": "stdout",
     "output_type": "stream",
     "text": [
      "Mean Test Loss: 227.2919\n",
      "-----------\n",
      "\n",
      "Epoch: 91\n",
      "-----------\n",
      "Batches processed: 250/250, Samples processed: 8000/8000\n",
      "-----------\n",
      "Mean Train Loss: 227.2190\n"
     ]
    },
    {
     "name": "stderr",
     "output_type": "stream",
     "text": [
      " 92%|█████████▏| 92/100 [28:09<02:25, 18.23s/it]"
     ]
    },
    {
     "name": "stdout",
     "output_type": "stream",
     "text": [
      "Mean Test Loss: 226.4817\n",
      "-----------\n",
      "\n",
      "Epoch: 92\n",
      "-----------\n",
      "Batches processed: 250/250, Samples processed: 8000/8000\n",
      "-----------\n",
      "Mean Train Loss: 226.9523\n"
     ]
    },
    {
     "name": "stderr",
     "output_type": "stream",
     "text": [
      " 93%|█████████▎| 93/100 [28:28<02:08, 18.32s/it]"
     ]
    },
    {
     "name": "stdout",
     "output_type": "stream",
     "text": [
      "Mean Test Loss: 226.7629\n",
      "-----------\n",
      "\n",
      "Epoch: 93\n",
      "-----------\n",
      "Batches processed: 250/250, Samples processed: 8000/8000\n",
      "-----------\n",
      "Mean Train Loss: 227.0025\n"
     ]
    },
    {
     "name": "stderr",
     "output_type": "stream",
     "text": [
      " 94%|█████████▍| 94/100 [28:46<01:49, 18.32s/it]"
     ]
    },
    {
     "name": "stdout",
     "output_type": "stream",
     "text": [
      "Mean Test Loss: 226.3508\n",
      "-----------\n",
      "\n",
      "Epoch: 94\n",
      "-----------\n",
      "Batches processed: 250/250, Samples processed: 8000/8000\n",
      "-----------\n",
      "Mean Train Loss: 226.9159\n"
     ]
    },
    {
     "name": "stderr",
     "output_type": "stream",
     "text": [
      " 95%|█████████▌| 95/100 [29:04<01:31, 18.28s/it]"
     ]
    },
    {
     "name": "stdout",
     "output_type": "stream",
     "text": [
      "Mean Test Loss: 226.4803\n",
      "-----------\n",
      "\n",
      "Epoch: 95\n",
      "-----------\n",
      "Batches processed: 250/250, Samples processed: 8000/8000\n",
      "-----------\n",
      "Mean Train Loss: 226.6768\n"
     ]
    },
    {
     "name": "stderr",
     "output_type": "stream",
     "text": [
      " 96%|█████████▌| 96/100 [29:23<01:13, 18.31s/it]"
     ]
    },
    {
     "name": "stdout",
     "output_type": "stream",
     "text": [
      "Mean Test Loss: 226.2851\n",
      "-----------\n",
      "\n",
      "Epoch: 96\n",
      "-----------\n",
      "Batches processed: 250/250, Samples processed: 8000/8000\n",
      "-----------\n",
      "Mean Train Loss: 226.4400\n"
     ]
    },
    {
     "name": "stderr",
     "output_type": "stream",
     "text": [
      " 97%|█████████▋| 97/100 [29:41<00:54, 18.32s/it]"
     ]
    },
    {
     "name": "stdout",
     "output_type": "stream",
     "text": [
      "Mean Test Loss: 226.3217\n",
      "-----------\n",
      "\n",
      "Epoch: 97\n",
      "-----------\n",
      "Batches processed: 250/250, Samples processed: 8000/8000\n",
      "-----------\n",
      "Mean Train Loss: 226.4181\n"
     ]
    },
    {
     "name": "stderr",
     "output_type": "stream",
     "text": [
      " 98%|█████████▊| 98/100 [29:59<00:36, 18.37s/it]"
     ]
    },
    {
     "name": "stdout",
     "output_type": "stream",
     "text": [
      "Mean Test Loss: 226.8855\n",
      "-----------\n",
      "\n",
      "Epoch: 98\n",
      "-----------\n",
      "Batches processed: 250/250, Samples processed: 8000/8000\n",
      "-----------\n",
      "Mean Train Loss: 226.1315\n"
     ]
    },
    {
     "name": "stderr",
     "output_type": "stream",
     "text": [
      " 99%|█████████▉| 99/100 [30:18<00:18, 18.47s/it]"
     ]
    },
    {
     "name": "stdout",
     "output_type": "stream",
     "text": [
      "Mean Test Loss: 226.6535\n",
      "-----------\n",
      "\n",
      "Epoch: 99\n",
      "-----------\n",
      "Batches processed: 250/250, Samples processed: 8000/8000\n",
      "-----------\n",
      "Mean Train Loss: 225.9870\n"
     ]
    },
    {
     "name": "stderr",
     "output_type": "stream",
     "text": [
      "100%|██████████| 100/100 [30:37<00:00, 18.37s/it]"
     ]
    },
    {
     "name": "stdout",
     "output_type": "stream",
     "text": [
      "Mean Test Loss: 226.6019\n",
      "-----------\n",
      "\n",
      "Total time to train: 1837.47s\n"
     ]
    },
    {
     "name": "stderr",
     "output_type": "stream",
     "text": [
      "\n"
     ]
    }
   ],
   "source": [
    "# Now lets give the train/test loop a try!\n",
    "\n",
    "# Now lets create a quick little function that gives the run time of the loop\n",
    "total_time = lambda start_time, stop_time: stop_time - start_time\n",
    "\n",
    "EPOCHS = 100\n",
    "train_time_cnn_start = timer()\n",
    "for epoch in tqdm(range(EPOCHS)):\n",
    "    print(f'Epoch: {epoch}\\n-----------')\n",
    "    train_step(\n",
    "        conv_reg_v1,\n",
    "        train_dloader,\n",
    "        loss_fn,\n",
    "        optimizer,\n",
    "    )\n",
    "    test_step(\n",
    "        conv_reg_v1,\n",
    "        test_dloader,\n",
    "        loss_fn,\n",
    "    )\n",
    "train_time_cnn_end = timer()\n",
    "print(f'Total time to train: {total_time(train_time_cnn_start, train_time_cnn_end):.2f}s')"
   ]
  },
  {
   "cell_type": "code",
   "execution_count": 27,
   "metadata": {},
   "outputs": [
    {
     "name": "stdout",
     "output_type": "stream",
     "text": [
      "Test Sample Shape: torch.Size([2, 1000]), Test Label Shape: torch.Size([1, 1])\n",
      "Preds shape torch.Size([1, 1])\n"
     ]
    }
   ],
   "source": [
    "# Pick n random samples/labels from the test data and plot them\n",
    "test_samples = []\n",
    "test_labels = []\n",
    "\n",
    "for sample, label in random.sample(list(test_dataset), k=15): # random.sample samples k elements from the given population without replacement; returns list of samples.\n",
    "    test_samples.append(sample)\n",
    "    test_labels.append(label)\n",
    "\n",
    "print(f'Test Sample Shape: {test_samples[0].shape}, Test Label Shape: {test_labels[0].shape}')\n",
    "preds = make_predictions(conv_reg_v1, [x.unsqueeze(dim=0) for x in test_samples]) # returns a tensor\n",
    "print(f'Preds shape {preds[0].shape}')\n",
    "\n"
   ]
  },
  {
   "cell_type": "code",
   "execution_count": null,
   "metadata": {},
   "outputs": [],
   "source": [
    "for i in range(10):\n",
    "    pred_stream = torch.zeros_like(test_samples[0][0])\n",
    "    pred_stream[preds[i].int()] = 1\n",
    "    plot_stream_data(test_samples[i][0].numpy(),\n",
    "                     test_samples[i][1].numpy(),\n",
    "                     pred_stream.numpy(),\n",
    "                     units='us')"
   ]
  }
 ],
 "metadata": {
  "kernelspec": {
   "display_name": "ml",
   "language": "python",
   "name": "python3"
  },
  "language_info": {
   "codemirror_mode": {
    "name": "ipython",
    "version": 3
   },
   "file_extension": ".py",
   "mimetype": "text/x-python",
   "name": "python",
   "nbconvert_exporter": "python",
   "pygments_lexer": "ipython3",
   "version": "3.10.11"
  },
  "orig_nbformat": 4
 },
 "nbformat": 4,
 "nbformat_minor": 2
}
