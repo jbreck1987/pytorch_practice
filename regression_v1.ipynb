{
 "cells": [
  {
   "cell_type": "markdown",
   "metadata": {},
   "source": [
    "### Training Data"
   ]
  },
  {
   "cell_type": "code",
   "execution_count": 1,
   "metadata": {},
   "outputs": [
    {
     "name": "stderr",
     "output_type": "stream",
     "text": [
      "/var/folders/36/2n0ym8f951v8cw80tfqm4v240000gn/T/ipykernel_69228/2426052232.py:9: TqdmWarning: IProgress not found. Please update jupyter and ipywidgets. See https://ipywidgets.readthedocs.io/en/stable/user_install.html\n",
      "  from tqdm.autonotebook import tqdm\n"
     ]
    }
   ],
   "source": [
    "import matplotlib.pyplot as plt\n",
    "\n",
    "import numpy as np\n",
    "import numpy\n",
    "import torch\n",
    "import time\n",
    "import random\n",
    "from timeit import default_timer as timer\n",
    "from tqdm.autonotebook import tqdm\n",
    "\n",
    "from mkidreadoutanalysis.quasiparticletimestream import QuasiparticleTimeStream\n",
    "from data_engineering import make_dataset, plot_stream_data, train_step, test_step, make_predictions"
   ]
  },
  {
   "cell_type": "code",
   "execution_count": 2,
   "metadata": {},
   "outputs": [
    {
     "name": "stdout",
     "output_type": "stream",
     "text": [
      "Num samples with photons: 79/800.0\r"
     ]
    },
    {
     "name": "stderr",
     "output_type": "stream",
     "text": [
      "Warning: No photons arrived. :'(\n"
     ]
    },
    {
     "name": "stdout",
     "output_type": "stream",
     "text": [
      "Num samples with photons: 100/800.0\r"
     ]
    },
    {
     "name": "stderr",
     "output_type": "stream",
     "text": [
      "Warning: No photons arrived. :'(\n",
      "Warning: No photons arrived. :'(\n"
     ]
    },
    {
     "name": "stdout",
     "output_type": "stream",
     "text": [
      "Num samples with photons: 139/800.0\r"
     ]
    },
    {
     "name": "stderr",
     "output_type": "stream",
     "text": [
      "Warning: No photons arrived. :'(\n"
     ]
    },
    {
     "name": "stdout",
     "output_type": "stream",
     "text": [
      "Num samples with photons: 165/800.0\r"
     ]
    },
    {
     "name": "stderr",
     "output_type": "stream",
     "text": [
      "Warning: No photons arrived. :'(\n"
     ]
    },
    {
     "name": "stdout",
     "output_type": "stream",
     "text": [
      "Num samples with photons: 213/800.0\r"
     ]
    },
    {
     "name": "stderr",
     "output_type": "stream",
     "text": [
      "Warning: No photons arrived. :'(\n"
     ]
    },
    {
     "name": "stdout",
     "output_type": "stream",
     "text": [
      "Num samples with photons: 216/800.0\r"
     ]
    },
    {
     "name": "stderr",
     "output_type": "stream",
     "text": [
      "Warning: No photons arrived. :'(\n"
     ]
    },
    {
     "name": "stdout",
     "output_type": "stream",
     "text": [
      "Num samples with photons: 271/800.0\r"
     ]
    },
    {
     "name": "stderr",
     "output_type": "stream",
     "text": [
      "Warning: No photons arrived. :'(\n"
     ]
    },
    {
     "name": "stdout",
     "output_type": "stream",
     "text": [
      "Num samples with photons: 273/800.0\r"
     ]
    },
    {
     "name": "stderr",
     "output_type": "stream",
     "text": [
      "Warning: No photons arrived. :'(\n"
     ]
    },
    {
     "name": "stdout",
     "output_type": "stream",
     "text": [
      "Num samples with photons: 277/800.0\r"
     ]
    },
    {
     "name": "stderr",
     "output_type": "stream",
     "text": [
      "Warning: No photons arrived. :'(\n"
     ]
    },
    {
     "name": "stdout",
     "output_type": "stream",
     "text": [
      "Num samples with photons: 300/800.0\r"
     ]
    },
    {
     "name": "stderr",
     "output_type": "stream",
     "text": [
      "Warning: No photons arrived. :'(\n"
     ]
    },
    {
     "name": "stdout",
     "output_type": "stream",
     "text": [
      "Num samples with photons: 353/800.0\r"
     ]
    },
    {
     "name": "stderr",
     "output_type": "stream",
     "text": [
      "Warning: No photons arrived. :'(\n",
      "Warning: No photons arrived. :'(\n"
     ]
    },
    {
     "name": "stdout",
     "output_type": "stream",
     "text": [
      "Num samples with photons: 401/800.0\r"
     ]
    },
    {
     "name": "stderr",
     "output_type": "stream",
     "text": [
      "Warning: No photons arrived. :'(\n"
     ]
    },
    {
     "name": "stdout",
     "output_type": "stream",
     "text": [
      "Num samples with photons: 437/800.0\r"
     ]
    },
    {
     "name": "stderr",
     "output_type": "stream",
     "text": [
      "Warning: No photons arrived. :'(\n"
     ]
    },
    {
     "name": "stdout",
     "output_type": "stream",
     "text": [
      "Num samples with photons: 447/800.0\r"
     ]
    },
    {
     "name": "stderr",
     "output_type": "stream",
     "text": [
      "Warning: No photons arrived. :'(\n"
     ]
    },
    {
     "name": "stdout",
     "output_type": "stream",
     "text": [
      "Num samples with photons: 455/800.0\r"
     ]
    },
    {
     "name": "stderr",
     "output_type": "stream",
     "text": [
      "Warning: No photons arrived. :'(\n"
     ]
    },
    {
     "name": "stdout",
     "output_type": "stream",
     "text": [
      "Num samples with photons: 469/800.0\r"
     ]
    },
    {
     "name": "stderr",
     "output_type": "stream",
     "text": [
      "Warning: No photons arrived. :'(\n",
      "Warning: No photons arrived. :'(\n"
     ]
    },
    {
     "name": "stdout",
     "output_type": "stream",
     "text": [
      "Num samples with photons: 540/800.0\r"
     ]
    },
    {
     "name": "stderr",
     "output_type": "stream",
     "text": [
      "Warning: No photons arrived. :'(\n"
     ]
    },
    {
     "name": "stdout",
     "output_type": "stream",
     "text": [
      "Num samples with photons: 570/800.0\r"
     ]
    },
    {
     "name": "stderr",
     "output_type": "stream",
     "text": [
      "Warning: No photons arrived. :'(\n"
     ]
    },
    {
     "name": "stdout",
     "output_type": "stream",
     "text": [
      "Num samples with photons: 600/800.0\r"
     ]
    },
    {
     "name": "stderr",
     "output_type": "stream",
     "text": [
      "Warning: No photons arrived. :'(\n"
     ]
    },
    {
     "name": "stdout",
     "output_type": "stream",
     "text": [
      "Num samples with photons: 606/800.0\r"
     ]
    },
    {
     "name": "stderr",
     "output_type": "stream",
     "text": [
      "Warning: No photons arrived. :'(\n"
     ]
    },
    {
     "name": "stdout",
     "output_type": "stream",
     "text": [
      "Num samples with photons: 659/800.0\r"
     ]
    },
    {
     "name": "stderr",
     "output_type": "stream",
     "text": [
      "Warning: No photons arrived. :'(\n"
     ]
    },
    {
     "name": "stdout",
     "output_type": "stream",
     "text": [
      "Num samples with photons: 670/800.0\r"
     ]
    },
    {
     "name": "stderr",
     "output_type": "stream",
     "text": [
      "More than 1 photon arriving per time step. Lower the count rate?\n",
      "Warning: No photons arrived. :'(\n"
     ]
    },
    {
     "name": "stdout",
     "output_type": "stream",
     "text": [
      "Num samples with photons: 695/800.0\r"
     ]
    },
    {
     "name": "stderr",
     "output_type": "stream",
     "text": [
      "More than 1 photon arriving per time step. Lower the count rate?\n",
      "Warning: No photons arrived. :'(\n"
     ]
    },
    {
     "name": "stdout",
     "output_type": "stream",
     "text": [
      "Num samples with photons: 712/800.0\r"
     ]
    },
    {
     "name": "stderr",
     "output_type": "stream",
     "text": [
      "Warning: No photons arrived. :'(\n"
     ]
    },
    {
     "name": "stdout",
     "output_type": "stream",
     "text": [
      "Num samples with photons: 717/800.0\r"
     ]
    },
    {
     "name": "stderr",
     "output_type": "stream",
     "text": [
      "Warning: No photons arrived. :'(\n"
     ]
    },
    {
     "name": "stdout",
     "output_type": "stream",
     "text": [
      "Num samples with photons: 800/800.0\n",
      "Number of samples with pulses: 800\n",
      "Number of samples without pulses: 200\n"
     ]
    }
   ],
   "source": [
    "# Generate the dataset\n",
    "\n",
    "NO_PULSE_FRACTION = 0.2\n",
    "NUM_SAMPLES = 1000 # This is approximate, the number of photons in the last iteration of the loop is Poisson distributied\n",
    "QP_TIME_LENGTH = 0.01 # secs\n",
    "SAMPLING_FREQ = 2e6 # Hz\n",
    "FALL_TIME = 30\n",
    "EDGE_PAD = FALL_TIME * 2\n",
    "WINDOW_SIZE = 1000\n",
    "RANDOM_SEED = 42\n",
    "\n",
    "\n",
    "no_pulses = []\n",
    "pulses = []\n",
    "\n",
    "# Generate qp timestream object\n",
    "qp_timestream = QuasiparticleTimeStream(SAMPLING_FREQ, QP_TIME_LENGTH)\n",
    "qp_timestream.gen_quasiparticle_pulse(tf = FALL_TIME)\n",
    "\n",
    "# Make the dataset\n",
    "make_dataset(qp_timestream,\n",
    "             NUM_SAMPLES,\n",
    "             NO_PULSE_FRACTION,\n",
    "             pulses,\n",
    "             no_pulses,\n",
    "             True,\n",
    "             edge_padding=EDGE_PAD,\n",
    "             window_size=WINDOW_SIZE)\n"
   ]
  },
  {
   "cell_type": "code",
   "execution_count": 18,
   "metadata": {},
   "outputs": [],
   "source": [
    "# Now lets start splitting out the training samples and the label. In this model, we want scalar value for the label, not a time series\n",
    "from random import shuffle\n",
    "\n",
    "X = []\n",
    "y = []\n",
    "\n",
    "# Lets create one big list of the pulse and no pulse samples randomly shuffled together \n",
    "train_data = pulses + no_pulses\n",
    "shuffle(train_data)\n",
    "\n",
    "# Now lets separate the training samples (I/Q data) from the label data (photon arrival)\n",
    "for element in train_data:\n",
    "    X.append(element[0:2,:])\n",
    "    y.append(np.array([element[2].sum()])) # Just need scalar here as tensor for the model"
   ]
  },
  {
   "cell_type": "code",
   "execution_count": 23,
   "metadata": {},
   "outputs": [
    {
     "name": "stdout",
     "output_type": "stream",
     "text": [
      "# of train samples: 800, # of test samples: 200\n"
     ]
    }
   ],
   "source": [
    "# With the training and label data now separated, lets start defining our training/testing metrics\n",
    "# and split the dataset into train and test\n",
    "TEST_RATIO = 0.2\n",
    "BATCH_SIZE = 32\n",
    "\n",
    "from sklearn.model_selection import train_test_split\n",
    "X_train, X_test, y_train, y_test = train_test_split(\n",
    "    X,\n",
    "    y,\n",
    "    test_size=TEST_RATIO, # Ratio of test data to use from full dataset; Training is the complement\n",
    "    random_state=RANDOM_SEED\n",
    ")\n",
    "\n",
    "# Now lets convert the lists to Tensors. Converting to np arrays first based on warning from torch\n",
    "X_train = torch.Tensor(numpy.array(X_train))\n",
    "X_test = torch.Tensor(numpy.array(X_test))\n",
    "y_train = torch.Tensor(numpy.array(y_train))\n",
    "y_test = torch.Tensor(numpy.array(y_test))\n",
    "\n",
    "print(f'# of train samples: {len(X_train)}, # of test samples: {len(X_test)}')"
   ]
  },
  {
   "cell_type": "code",
   "execution_count": 24,
   "metadata": {},
   "outputs": [
    {
     "name": "stdout",
     "output_type": "stream",
     "text": [
      "Type: <class 'torch.utils.data.dataloader.DataLoader'>\n",
      "Batch Img: torch.Size([32, 2, 1000]), Batch Labels: torch.Size([32, 1])\n"
     ]
    }
   ],
   "source": [
    "# It's finally time to create our Dataloader objects\n",
    "from torch.utils.data import TensorDataset, DataLoader\n",
    "\n",
    "# Let's first convert from numpy arrays to Tensors and create datasets\n",
    "train_dataset = TensorDataset(X_train,\n",
    "                              y_train)\n",
    "test_dataset = TensorDataset(X_test,\n",
    "                             y_test)\n",
    "\n",
    "train_dloader = DataLoader(\n",
    "    dataset=train_dataset,\n",
    "    batch_size=BATCH_SIZE,\n",
    "    shuffle=True\n",
    ")\n",
    "test_dloader = DataLoader(\n",
    "    dataset=test_dataset,\n",
    "    batch_size=BATCH_SIZE,\n",
    "    shuffle=False\n",
    ")\n",
    "\n",
    "# Now lets inpect the objects.\n",
    "print(f'Type: {type(train_dloader)}')\n",
    "train_batch_img, train_batch_labels = next(iter(train_dloader))\n",
    "print(f'Batch Img: {train_batch_img.shape}, Batch Labels: {train_batch_labels.shape}')"
   ]
  },
  {
   "cell_type": "code",
   "execution_count": null,
   "metadata": {},
   "outputs": [],
   "source": []
  }
 ],
 "metadata": {
  "kernelspec": {
   "display_name": "ml",
   "language": "python",
   "name": "python3"
  },
  "language_info": {
   "codemirror_mode": {
    "name": "ipython",
    "version": 3
   },
   "file_extension": ".py",
   "mimetype": "text/x-python",
   "name": "python",
   "nbconvert_exporter": "python",
   "pygments_lexer": "ipython3",
   "version": "3.10.11"
  },
  "orig_nbformat": 4
 },
 "nbformat": 4,
 "nbformat_minor": 2
}
