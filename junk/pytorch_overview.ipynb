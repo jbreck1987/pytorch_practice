{
 "cells": [
  {
   "cell_type": "code",
   "execution_count": null,
   "metadata": {},
   "outputs": [],
   "source": [
    "import torch"
   ]
  },
  {
   "cell_type": "markdown",
   "metadata": {},
   "source": [
    "### Basic tensors and manipulations"
   ]
  },
  {
   "cell_type": "code",
   "execution_count": null,
   "metadata": {},
   "outputs": [],
   "source": [
    "# Create a 5x5 Tensor with default datatype of float32\n",
    "z = torch.zeros(5,5)\n",
    "print(z)\n",
    "print(z.size())\n",
    "print(z.dtype)"
   ]
  },
  {
   "cell_type": "code",
   "execution_count": null,
   "metadata": {},
   "outputs": [],
   "source": [
    "# Create a 5x5 Tensor, overriding the default datatype to int\n",
    "z = torch.ones((5,5), dtype=torch.int16)\n",
    "print(z)\n",
    "print(z.shape)\n",
    "print(z.dtype)"
   ]
  },
  {
   "cell_type": "code",
   "execution_count": null,
   "metadata": {},
   "outputs": [],
   "source": [
    "# Common to randomly initialize weights in model\n",
    "# For reproducibility, can seed random weights to get\n",
    "# Same distribution of weights\n",
    "\n",
    "# Create 3 tensors, two of which will be different\n",
    "# objects but use the same initlization seed => same initial\n",
    "# weights. Seems like the manual_seed function is usable by only\n",
    "# one tensor.\n",
    "\n",
    "torch.manual_seed(1500)\n",
    "z1 = torch.rand(2,2)\n",
    "print(z1)\n",
    "\n",
    "z2 = torch.rand(2,2)\n",
    "print(z2)\n",
    "\n",
    "torch.manual_seed(1500)\n",
    "z3 = torch.rand(2,2)\n",
    "print(z3)"
   ]
  },
  {
   "cell_type": "code",
   "execution_count": null,
   "metadata": {},
   "outputs": [],
   "source": [
    "# Arithmetic of Tensors is like that of numpy arrays\n",
    "\n",
    "z1 = torch.ones(4,4)\n",
    "z2 = torch.ones(4,4)\n",
    "\n",
    "# Scalar multiplication like matrices\n",
    "print(z1 * 2)\n",
    "\n",
    "# Addition like matricies (matri)\n",
    "print(3 * z1 + z2)"
   ]
  },
  {
   "cell_type": "code",
   "execution_count": null,
   "metadata": {},
   "outputs": [],
   "source": []
  }
 ],
 "metadata": {
  "kernelspec": {
   "display_name": "Python 3.10.6 ('iq_ml_cnn')",
   "language": "python",
   "name": "python3"
  },
  "language_info": {
   "codemirror_mode": {
    "name": "ipython",
    "version": 3
   },
   "file_extension": ".py",
   "mimetype": "text/x-python",
   "name": "python",
   "nbconvert_exporter": "python",
   "pygments_lexer": "ipython3",
   "version": "3.10.6"
  },
  "orig_nbformat": 4,
  "vscode": {
   "interpreter": {
    "hash": "6bbff50bfc5161648b6e194634e05a5fcf9698595f74ac8274cfa4850e6a92e6"
   }
  }
 },
 "nbformat": 4,
 "nbformat_minor": 2
}
