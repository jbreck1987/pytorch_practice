{
 "cells": [
  {
   "cell_type": "code",
   "execution_count": null,
   "metadata": {},
   "outputs": [],
   "source": [
    "import matplotlib.pyplot as plt\n",
    "import torch"
   ]
  },
  {
   "cell_type": "code",
   "execution_count": null,
   "metadata": {},
   "outputs": [],
   "source": [
    "# The problem we want to solve is classyfing which concentric circle a given coordinate in the XY plane belongs to\n",
    "# Lets use tools from scikit-learn to make the circles for us\n",
    "from sklearn.datasets import make_circles\n",
    "\n",
    "n_samples = 1000 # number of circles in our dataset\n",
    "\n",
    "# Now to create the actual dataset. This function is pretty handy, it creates a training set for you\n",
    "# (X=features, y=labels)\n",
    "# It'll be interesting to see how this data is formatted\n",
    "X, y = make_circles(\n",
    "    n_samples, # number of vals in the dataset\n",
    "    noise=0.03, # makes the circles imperfect\n",
    "    random_state=42\n",
    ")"
   ]
  },
  {
   "cell_type": "code",
   "execution_count": null,
   "metadata": {},
   "outputs": [],
   "source": [
    "# Now lets inspect our data to make sure we know the format before moving forward\n",
    "print(f'X shape: {X.shape}, X type: {type(X)}')\n",
    "print(f'y shape: {y.shape}, y type: {type(y)}')\n",
    "print(f'first vals of X \\n {X[:4]}') # seems like data are coordinates in XY plane (I.E. There are two features)\n",
    "print(f'first vals of y \\n {y[:4]}') # seems like the labels are describing which circle the cooridnate belongs to (0 or 1)\n",
    "\n",
    "# Now lets plot the data\n",
    "plt.figure()\n",
    "plt.scatter(X[:,0], X[:,1]) # Seems like we have roughly two concentric circles with different radii"
   ]
  },
  {
   "cell_type": "code",
   "execution_count": null,
   "metadata": {},
   "outputs": [],
   "source": [
    "# Want to now create a model that will be able tell us which circle a point belongs to\n",
    "# Now need to create the training and testing data splits before creating the model\n",
    "\n",
    "# Convert from NDArray to Tensor\n",
    "X = torch.from_numpy(X).type(torch.float)\n",
    "y = torch.from_numpy(y).type(torch.float)\n",
    "\n",
    "print(f'X type: {type(X)}, X dtype: {X.dtype}, X dims: {X.shape}')\n",
    "print(f'y type: {type(y)}, y dtype: {y.dtype}, y dims: {y.shape}')"
   ]
  },
  {
   "cell_type": "code",
   "execution_count": null,
   "metadata": {},
   "outputs": [],
   "source": [
    "# sklearn comes with a nice function that'll split our data for us \n",
    "from sklearn.model_selection import train_test_split\n",
    "X_train, X_test, y_train, y_test = train_test_split(\n",
    "    X,\n",
    "    y,\n",
    "    test_size=0.2, # Ratio of test data to use from full dataset; Training is the complement\n",
    "    random_state=42,\n",
    ")"
   ]
  },
  {
   "cell_type": "code",
   "execution_count": 15,
   "metadata": {},
   "outputs": [
    {
     "name": "stdout",
     "output_type": "stream",
     "text": [
      "X_train type: <class 'torch.Tensor'>, X_train dtype: torch.float32, X_train dims: torch.Size([800, 2])\n",
      "X_test type: <class 'torch.Tensor'>, X_test dtype: torch.float32, X_test dims: torch.Size([200, 2])\n",
      "y_train type: <class 'torch.Tensor'>, y_train dtype: torch.float32, y_train dims: torch.Size([800])\n",
      "y_test type: <class 'torch.Tensor'>, y_test dtype: torch.float32, y_test dims: torch.Size([200])\n"
     ]
    }
   ],
   "source": [
    "# Now lets inpect our split data\n",
    "print(f'X_train type: {type(X_train)}, X_train dtype: {X_train.dtype}, X_train dims: {X_train.shape}')\n",
    "print(f'X_test type: {type(X_test)}, X_test dtype: {X_test.dtype}, X_test dims: {X_test.shape}')\n",
    "print(f'y_train type: {type(y_train)}, y_train dtype: {y_train.dtype}, y_train dims: {y_train.shape}')\n",
    "print(f'y_test type: {type(y_test)}, y_test dtype: {y_test.dtype}, y_test dims: {y_test.shape}')"
   ]
  }
 ],
 "metadata": {
  "kernelspec": {
   "display_name": "iq_ml_cnn",
   "language": "python",
   "name": "python3"
  },
  "language_info": {
   "codemirror_mode": {
    "name": "ipython",
    "version": 3
   },
   "file_extension": ".py",
   "mimetype": "text/x-python",
   "name": "python",
   "nbconvert_exporter": "python",
   "pygments_lexer": "ipython3",
   "version": "3.10.6"
  },
  "orig_nbformat": 4
 },
 "nbformat": 4,
 "nbformat_minor": 2
}
