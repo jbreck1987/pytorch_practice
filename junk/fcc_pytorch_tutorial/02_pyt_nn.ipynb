{
 "cells": [
  {
   "cell_type": "code",
   "execution_count": null,
   "metadata": {},
   "outputs": [],
   "source": [
    "import matplotlib.pyplot as plt\n",
    "import torch\n",
    "from torch import nn\n",
    "import experiment\n"
   ]
  },
  {
   "cell_type": "code",
   "execution_count": null,
   "metadata": {},
   "outputs": [],
   "source": [
    "# The problem we want to solve is classyfing which concentric circle a given coordinate in the XY plane belongs to\n",
    "# Lets use tools from scikit-learn to make the circles for us\n",
    "from sklearn.datasets import make_circles\n",
    "\n",
    "n_samples = 1000 # number of circles in our dataset\n",
    "\n",
    "# Now to create the actual dataset. This function is pretty handy, it creates a training set for you\n",
    "# (X=features, y=labels)\n",
    "# It'll be interesting to see how this data is formatted\n",
    "X, y = make_circles(\n",
    "    n_samples, # number of vals in the dataset\n",
    "    noise=0.03, # makes the circles imperfect\n",
    "    random_state=42\n",
    ")"
   ]
  },
  {
   "cell_type": "code",
   "execution_count": null,
   "metadata": {},
   "outputs": [],
   "source": [
    "# Now lets inspect our data to make sure we know the format before moving forward\n",
    "print(f'X shape: {X.shape}, X type: {type(X)}')\n",
    "print(f'y shape: {y.shape}, y type: {type(y)}')\n",
    "print(f'first vals of X \\n {X[:4]}') # seems like data are coordinates in XY plane (I.E. There are two features)\n",
    "print(f'first vals of y \\n {y[:4]}') # seems like the labels are describing which circle the cooridnate belongs to (0 or 1)\n",
    "\n",
    "# Now lets plot the data\n",
    "plt.figure()\n",
    "plt.scatter(X[:,0], X[:,1]) # Seems like we have roughly two concentric circles with different radii"
   ]
  },
  {
   "cell_type": "code",
   "execution_count": null,
   "metadata": {},
   "outputs": [],
   "source": [
    "# Want to now create a model that will be able tell us which circle a point belongs to\n",
    "# Now need to create the training and testing data splits before creating the model\n",
    "\n",
    "# Convert from NDArray to Tensor\n",
    "X = torch.from_numpy(X).type(torch.float)\n",
    "y = torch.from_numpy(y).type(torch.float)\n",
    "\n",
    "print(f'X type: {type(X)}, X dtype: {X.dtype}, X dims: {X.shape}')\n",
    "print(f'y type: {type(y)}, y dtype: {y.dtype}, y dims: {y.shape}')"
   ]
  },
  {
   "cell_type": "code",
   "execution_count": null,
   "metadata": {},
   "outputs": [],
   "source": [
    "# sklearn comes with a nice function that'll split our data for us \n",
    "from sklearn.model_selection import train_test_split\n",
    "X_train, X_test, y_train, y_test = train_test_split(\n",
    "    X,\n",
    "    y,\n",
    "    test_size=0.2, # Ratio of test data to use from full dataset; Training is the complement\n",
    "    random_state=42,\n",
    ")"
   ]
  },
  {
   "cell_type": "code",
   "execution_count": null,
   "metadata": {},
   "outputs": [],
   "source": [
    "# Now lets inpect our split data\n",
    "print(f'X_train type: {type(X_train)}, X_train dtype: {X_train.dtype}, X_train dims: {X_train.shape}')\n",
    "print(f'X_test type: {type(X_test)}, X_test dtype: {X_test.dtype}, X_test dims: {X_test.shape}')\n",
    "print(f'y_train type: {type(y_train)}, y_train dtype: {y_train.dtype}, y_train dims: {y_train.shape}')\n",
    "print(f'y_test type: {type(y_test)}, y_test dtype: {y_test.dtype}, y_test dims: {y_test.shape}')"
   ]
  },
  {
   "cell_type": "code",
   "execution_count": null,
   "metadata": {},
   "outputs": [],
   "source": [
    "# Now lets define our model, which will be a simple 2 layer NN\n",
    "class CircleModel_V0(nn.Module):\n",
    "    def __init__(self) -> None:\n",
    "        super().__init__()\n",
    "        # Define the network architecture (2->5->1, one hidden layer of 5 neurons)\n",
    "        # Note that the bias term in each layer is enabled by default\n",
    "        self.network = nn.Sequential(\n",
    "            nn.Linear(in_features=2, out_features=5), # Note that these are LINEAR layers (activation f'n is linear...)\n",
    "            nn.Linear(in_features=5, out_features=1)\n",
    "        )\n",
    "\n",
    "    def forward(self, x):\n",
    "        # Using sequential above makes this method simple. Will just pass input tensor\n",
    "        # to the network above and torch will take care of the composition for us!\n",
    "        return self.network(x)\n"
   ]
  },
  {
   "cell_type": "code",
   "execution_count": null,
   "metadata": {},
   "outputs": [],
   "source": [
    "# Now that the model has been defined, lets check out the properties\n",
    "model = CircleModel_V0()\n",
    "print(model)"
   ]
  },
  {
   "cell_type": "code",
   "execution_count": null,
   "metadata": {},
   "outputs": [],
   "source": [
    "# Now we can look at the output predictions on the test data for the untrained model\n",
    "untrained_preds = model(X_test)\n",
    "print(f'untrained_preds shape: {untrained_preds.shape}')\n",
    "print(f'label shape: {y_test.shape}')\n",
    "print(f'first ten predictions: {untrained_preds[:9]}') # Seems like need to squeeze the output predictions to match label dims\n",
    "print(f'first ten labels: {y_test[:9]}')"
   ]
  },
  {
   "cell_type": "code",
   "execution_count": null,
   "metadata": {},
   "outputs": [],
   "source": [
    "# We can now define the loss and optimization functions\n",
    "# For classification, MAE isn't useful (it's designed to be used with real valued outputs)\n",
    "# We want to use cross-entropy loss (log loss, in this case binary) for classification problems\n",
    "optimizer = torch.optim.SGD(lr=0.2, params=model.parameters())\n",
    "loss_fn = nn.BCELoss()"
   ]
  },
  {
   "cell_type": "code",
   "execution_count": null,
   "metadata": {},
   "outputs": [],
   "source": [
    "# We can use the train/test loss as a function of epoch as way to tell how the model is doing\n",
    "# like we did in the regression model. But another way to tell how well the model is doing is by\n",
    "# looking at how RIGHT it is (as opposed to how wrong it is, which is what loss really tells)\n",
    "# This can be done by creating a function that evaluates the accuracy of the model.\n",
    "\n",
    "def model_accuracy(model_preds: torch.Tensor, labels: torch.Tensor) -> float:\n",
    "    \"\"\" Determines how well the model performs based on the number of correct\n",
    "    labels it predicts.\n",
    "\n",
    "    returns: decimal value of accuracy\n",
    "    \"\"\"\n",
    "\n",
    "    # Determine the total number of predictions that the model got right.\n",
    "    # Counts all indices where model preds and labels are equal\n",
    "    # and returns the ratio of correct preds to total preds (aka accuracy)\n",
    "    return torch.eq(model_preds, labels).sum().item()/len(model_preds)"
   ]
  },
  {
   "cell_type": "code",
   "execution_count": null,
   "metadata": {},
   "outputs": [],
   "source": [
    "# Now we're able to train the model, but first lets dig a little deeper into what is actually\n",
    "# being returned when we pass data to the model object\n",
    "untrained_preds = model(X_test)\n",
    "print(f'first ten predictions: {untrained_preds[:9]}') # The outputs are kinda random and seem to be meaningless (what does negative values imply here?) \n",
    "\n",
    "# These raw outputs have a name called logits. They need to be \"fixed up\" to mean anything (or allow you to compare outputs from two different runs)\n",
    "# To do this, the convention is to normalize them using a different activation function for the final layer.\n",
    "# A common function to use is sigmoid (historically for binary problems) or softmax in the modern times. This form makes the outputs probabilities!\n",
    "# Softmax can be used in multi-classification problems (more than two classes in the output)\n",
    "# In this case, if pred <= 0.5, the model should output that it belongs to label 0 and vice-versa.\n",
    "untrained_preds = torch.sigmoid(untrained_preds) # Note that when using BCEWithLogitsLoss for loss function, it actually has sigmoid built-in.\n",
    "print(f'New prediction outputs using sigmoid: {untrained_preds[:9]}') # sigmoid f'n transforms values to the range [0,1]"
   ]
  },
  {
   "cell_type": "code",
   "execution_count": null,
   "metadata": {},
   "outputs": [],
   "source": [
    "# We can easily create a function that goes from a probability to a label value, which can then\n",
    "# be used in the accuracy function describe earlier\n",
    "\n",
    "def probs_to_labels(pred_probs: torch.Tensor) -> torch.Tensor:\n",
    "    \"\"\"\n",
    "    Takes output predictions from the model in the form of probabilities and\n",
    "    converts those into label values (0 or 1)\n",
    "    \"\"\"\n",
    "    return torch.round(pred_probs)"
   ]
  },
  {
   "cell_type": "code",
   "execution_count": null,
   "metadata": {},
   "outputs": [],
   "source": [
    "# Now lets try the functions out and check the accuracy\n",
    "untrained_preds = torch.sigmoid(model(X_test).squeeze()) # output vals to probabilities\n",
    "print(f'model accuracy: {model_accuracy(probs_to_labels(untrained_preds), y_test)}')\n",
    "\n",
    "# According the above output, the initial random weights of the model get about\n",
    "# a ~50% accuracy on being able to sort our points into the correct circle\n",
    "# which is about what we expect (just as good as random guessing).\n",
    "# Lets inspect the two tensors explicitly\n",
    "print(f'untrained preds in label form: {probs_to_labels(untrained_preds)[:9]}')\n",
    "print(f'labels: {y_test[:9]}')"
   ]
  },
  {
   "cell_type": "code",
   "execution_count": null,
   "metadata": {},
   "outputs": [],
   "source": [
    "# Now lets define functions used in the training loop that trains the model. We'll try to use functional\n",
    "# style for this\n",
    "\n",
    "### forward pass functions ###\n",
    "def get_logits(x_train: torch.Tensor, model: torch.nn.Module) -> torch.Tensor:\n",
    "    \"\"\"\n",
    "    Returns logits from a pass through the model as a 1d tensor.\n",
    "    \"\"\"\n",
    "    return model(x_train).squeeze()\n",
    "\n",
    "def logits_to_labels(y_logits: torch.Tensor, activation_fn) -> torch.Tensor:\n",
    "    \"\"\"\n",
    "    Transforms logits to labels; logits -> probabilities -> labels.\n",
    "    \"\"\"\n",
    "    # Activation function does the intermediate transformation from logits to probabilities.\n",
    "    return probs_to_labels(activation_fn(y_logits))\n",
    "\n",
    "def forward_pass(x_train: torch.Tensor, model: torch.nn.Module, activation_fn = torch.sigmoid) -> torch.Tensor:\n",
    "    \"\"\"\n",
    "    Returns the labels after one pass through the model\n",
    "    \"\"\"\n",
    "    return logits_to_labels (get_logits(x_train, model),\n",
    "                             activation_fn)\n",
    "\n",
    "\n",
    "### training metrics functions ###\n",
    "\n",
    "def get_loss(y_preds: torch.Tensor, y_train: torch.Tensor, loss_fn: torch.nn) -> torch.nn:\n",
    "    \"\"\"\n",
    "    Returns the loss between labels and predictions. Note: This function also produces side effects\n",
    "    based on torch auto-grad implementation.\n",
    "    \"\"\"\n",
    "    return loss_fn(y_preds, y_train)\n",
    "\n",
    "# model_accuracy() defined above\n",
    "\n",
    "def pass_metrics(y_preds: torch.Tensor, y_train: torch.Tensor, loss: torch.nn) -> dict:\n",
    "    \"\"\"\n",
    "    Returns the pass metrics as a dictionary.\n",
    "    \"\"\"\n",
    "    return {\"loss\": loss.item(), \"accuracy\": model_accuracy(y_preds, y_train)}\n",
    "\n",
    "def display_metrics (train_metrics: dict, test_metrics: dict, epoch: int) -> None:\n",
    "    \"\"\"\n",
    "    Prints the test and training metrics. The function only produces side effects.\n",
    "    \"\"\"\n",
    "    print(f'Epoch: {epoch}')\n",
    "    print(f'Train Loss: {train_metrics[\"loss\"]} | Train Accuracy: {train_metrics[\"accuracy\"]}')\n",
    "    print(f'Test Loss: {test_metrics[\"loss\"]} | Test Accuracy: {test_metrics[\"accuracy\"]}')\n",
    "    print('----------')"
   ]
  },
  {
   "cell_type": "code",
   "execution_count": null,
   "metadata": {},
   "outputs": [],
   "source": [
    "# Define the training/testing loop\n",
    "n = 70\n",
    "for epoch in range(n):\n",
    "    # Set the model in training mode\n",
    "    model.train()\n",
    "\n",
    "    # Do one forward pass while also getting the training metrics.\n",
    "    # Training metrics: Loss, Accuracy\n",
    "    y_preds = forward_pass(X_train, model)\n",
    "    train_loss = get_loss(y_preds, y_train, loss_fn)\n",
    "    train_metrics = pass_metrics(y_preds, y_train, train_loss)\n",
    "\n",
    "    # Perform backprop steps\n",
    "    # Since these operations are purely side-effects, will not define functions for them\n",
    "    optimizer.zero_grad()\n",
    "    train_loss.backward()\n",
    "    optimizer.step()\n",
    "\n",
    "    # Now to set the model in inference mode and do a test pass\n",
    "    model.eval()\n",
    "    with torch.inference_mode():\n",
    "        # Do one forward pass using the test data and get test metrics\n",
    "        test_preds = forward_pass(X_test, model)\n",
    "        test_loss = get_loss(test_preds, y_test, loss_fn)\n",
    "        test_metrics = pass_metrics(test_preds, y_test, test_loss)\n",
    "    \n",
    "    # Display metrics every 10 epochs\n",
    "    if epoch % 10 == 0:\n",
    "        display_metrics(train_metrics, test_metrics, epoch)\n",
    "\n"
   ]
  }
 ],
 "metadata": {
  "kernelspec": {
   "display_name": "iq_ml_cnn",
   "language": "python",
   "name": "python3"
  },
  "language_info": {
   "codemirror_mode": {
    "name": "ipython",
    "version": 3
   },
   "file_extension": ".py",
   "mimetype": "text/x-python",
   "name": "python",
   "nbconvert_exporter": "python",
   "pygments_lexer": "ipython3",
   "version": "3.10.6"
  },
  "orig_nbformat": 4
 },
 "nbformat": 4,
 "nbformat_minor": 2
}
