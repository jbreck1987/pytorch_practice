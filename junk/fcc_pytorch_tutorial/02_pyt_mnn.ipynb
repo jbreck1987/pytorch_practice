{
 "cells": [
  {
   "attachments": {},
   "cell_type": "markdown",
   "metadata": {},
   "source": [
    "### Multi-Class Classification\n",
    "Now that we've explored a binary classification problem with linear and non-linear architectures, we now want to shift to a multi-class problem where there are more than two options that the model needs to be able to classify.\n",
    "\n",
    "The multi-class data will be artificial data from the scikit-learn `make_blobs()` function. The general flow is as follows:\n",
    "1. Make the artificial data and convert to tensors\n",
    "2. Visualize the data\n",
    "3. Define the model architecture\n",
    "4. Train the model\n",
    "5. Adjust hyperparameters as necessary"
   ]
  },
  {
   "cell_type": "code",
   "execution_count": null,
   "metadata": {},
   "outputs": [],
   "source": [
    "# First, lets explore the make_blobs() function. According to the documentation,\n",
    "# make_blobs is designed for creating artificial multiclass data by creating isotropic, Gaussian clusters\n",
    "# of points. The data is quite literally \"blobs\" of points around a \"center\" in R^n space. The classes could be based \n",
    "# on the number of centers in a feature set.\n",
    "\n",
    "from sklearn.datasets import make_blobs\n",
    "from sklearn.model_selection import train_test_split\n",
    "from matplotlib import pyplot as plt\n",
    "\n",
    "n_blobs = 50\n",
    "X_blob, y_blob = make_blobs([n_blobs, n_blobs], n_features=3, centers=None, random_state=42)\n",
    "\n",
    "fig = plt.figure()\n",
    "plt.title('Two blobs with 3 features (x, y, z)')\n",
    "ax = fig.add_subplot(projection='3d')\n",
    "ax.scatter(X_blob[:,0], X_blob[:,1], X_blob[:, 2], c=y_blob)"
   ]
  },
  {
   "cell_type": "code",
   "execution_count": null,
   "metadata": {},
   "outputs": [],
   "source": [
    "# Now lets standardize this a little for the actual model. Will define the const values that will be used when creating\n",
    "# the architecture (allow things to be updated once). This could probably eventually be refactored into a dataclass.\n",
    "\n",
    "NUM_CLASSES = 4 # This is self explanatory, the number of blobs per training data instance\n",
    "CLUSTER_POINTS = 100 # This is the number of points that are in each blob\n",
    "NUM_FEATURES = 2 # This refers to the dimension of the data. In this case, the dimension of the the points in the blobs (the above example is 3D)\n",
    "CLUSTER_STD_DEV = 1.0 # This changes the spread in each blob (makes classification more difficult!)\n",
    "RANDOM_SEED = 42"
   ]
  },
  {
   "cell_type": "code",
   "execution_count": null,
   "metadata": {},
   "outputs": [],
   "source": [
    "# Now lets create our training data and move to tensors"
   ]
  }
 ],
 "metadata": {
  "kernelspec": {
   "display_name": "iq_ml_cnn",
   "language": "python",
   "name": "python3"
  },
  "language_info": {
   "codemirror_mode": {
    "name": "ipython",
    "version": 3
   },
   "file_extension": ".py",
   "mimetype": "text/x-python",
   "name": "python",
   "nbconvert_exporter": "python",
   "pygments_lexer": "ipython3",
   "version": "3.10.6"
  },
  "orig_nbformat": 4
 },
 "nbformat": 4,
 "nbformat_minor": 2
}
