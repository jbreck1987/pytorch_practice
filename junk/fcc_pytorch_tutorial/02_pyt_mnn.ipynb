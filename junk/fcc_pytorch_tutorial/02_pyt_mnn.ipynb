{
 "cells": [
  {
   "attachments": {},
   "cell_type": "markdown",
   "metadata": {},
   "source": [
    "### Multi-Class Classification\n",
    "Now that we've explored a binary classification problem with linear and non-linear architectures, we now want to shift to a multi-class problem where there are more than two options that the model needs to be able to classify.\n",
    "\n",
    "The multi-class data will be artificial data from the scikit-learn `make_blobs()` function. The general flow is as follows:\n",
    "1. Make the artificial data and convert to tensors\n",
    "2. Visualize the data\n",
    "3. Define the model architecture\n",
    "4. Train the model\n",
    "5. Adjust hyperparameters as necessary"
   ]
  },
  {
   "attachments": {},
   "cell_type": "markdown",
   "metadata": {},
   "source": []
  }
 ],
 "metadata": {
  "language_info": {
   "name": "python"
  },
  "orig_nbformat": 4
 },
 "nbformat": 4,
 "nbformat_minor": 2
}
