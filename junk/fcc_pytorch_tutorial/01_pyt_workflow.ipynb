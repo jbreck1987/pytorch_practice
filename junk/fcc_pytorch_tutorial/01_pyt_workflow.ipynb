{
 "cells": [
  {
   "cell_type": "code",
   "execution_count": null,
   "metadata": {},
   "outputs": [],
   "source": [
    "import torch\n",
    "import numpy as np\n",
    "from torch import nn # contains all the neural network building blocks\n",
    "import matplotlib.pyplot as plt"
   ]
  },
  {
   "cell_type": "code",
   "execution_count": null,
   "metadata": {},
   "outputs": [],
   "source": [
    "print(torch.__version__)"
   ]
  },
  {
   "attachments": {},
   "cell_type": "markdown",
   "metadata": {},
   "source": [
    "## The goal of this notebook is to explore an example PyTorch workflow\n",
    "1. Data Preparation\n",
    "2. Building or using an existing model\n",
    "3. Fitting the model to the data (training)\n",
    "4. Making precitions and evaluating a model (inference)\n",
    "5. Saving and loading a model"
   ]
  },
  {
   "attachments": {},
   "cell_type": "markdown",
   "metadata": {},
   "source": [
    "### Data (prep and load)\n",
    "The original data can come in many forms. The goal is to reformat the data numerically such that it can be represented by tensors."
   ]
  },
  {
   "cell_type": "code",
   "execution_count": null,
   "metadata": {},
   "outputs": [],
   "source": [
    "# Lets form the input data by using the output of a 1st degree polynomial with known slope (weight) and intercept (bias)\n",
    "def lin_reg(X: torch.Tensor, W: torch.Tensor, b: torch.tensor) -> torch.tensor:\n",
    "    \"\"\"\n",
    "    Returns the result of evaluating a first order polynomial given the weight and bias values and an input\n",
    "    vector\n",
    "\n",
    "    Inputs\n",
    "        x: independent variable vector\n",
    "        W: the weight value (slope)\n",
    "        b: the bias value (intercept)\n",
    "\n",
    "    Outputs\n",
    "        tensor of size x.shape, W.shape\n",
    "    \"\"\"\n",
    "\n",
    "    return W * X + b"
   ]
  },
  {
   "cell_type": "code",
   "execution_count": null,
   "metadata": {},
   "outputs": [],
   "source": [
    "# The output of this cell will be used as input to train (and test, using different input range) the model\n",
    "\n",
    "# Define range\n",
    "start = 0\n",
    "stop = 1\n",
    "step = 0.02\n",
    "\n",
    "# Define bias and weight values\n",
    "weight = 0.7\n",
    "bias = 0.3\n",
    "\n",
    "X = torch.arange(start, stop, step).unsqueeze(dim=1) # Creating a column vector\n",
    "out = lin_reg(X, weight, bias)\n",
    "print(X[:10])\n",
    "print(out[:10])"
   ]
  },
  {
   "cell_type": "code",
   "execution_count": null,
   "metadata": {},
   "outputs": [],
   "source": []
  }
 ],
 "metadata": {
  "kernelspec": {
   "display_name": "iq_ml_cnn",
   "language": "python",
   "name": "python3"
  },
  "language_info": {
   "codemirror_mode": {
    "name": "ipython",
    "version": 3
   },
   "file_extension": ".py",
   "mimetype": "text/x-python",
   "name": "python",
   "nbconvert_exporter": "python",
   "pygments_lexer": "ipython3",
   "version": "3.10.6"
  },
  "orig_nbformat": 4,
  "vscode": {
   "interpreter": {
    "hash": "6bbff50bfc5161648b6e194634e05a5fcf9698595f74ac8274cfa4850e6a92e6"
   }
  }
 },
 "nbformat": 4,
 "nbformat_minor": 2
}
